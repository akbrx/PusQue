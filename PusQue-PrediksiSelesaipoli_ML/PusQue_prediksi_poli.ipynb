{
  "cells": [
    {
      "cell_type": "markdown",
      "metadata": {
        "id": "chM-sPLVDhGR"
      },
      "source": [
        "# Data Loading"
      ]
    },
    {
      "cell_type": "code",
      "execution_count": 1,
      "metadata": {
        "id": "nVeR9dLVikrl"
      },
      "outputs": [],
      "source": [
        "import pandas as pd\n",
        "import numpy as np\n",
        "import tensorflow as tf\n",
        "from tensorflow.keras.models import Sequential\n",
        "from tensorflow.keras.layers import Dense, Dropout\n",
        "from tensorflow.keras.callbacks import EarlyStopping\n",
        "\n",
        "from sklearn.model_selection import train_test_split\n",
        "from sklearn.preprocessing import StandardScaler\n",
        "from sklearn.metrics import mean_absolute_error, mean_squared_error, r2_score\n",
        "\n",
        "import matplotlib.pyplot as plt\n",
        "import seaborn as sns\n"
      ]
    },
    {
      "cell_type": "markdown",
      "metadata": {
        "id": "iKB4WDW4EAeJ"
      },
      "source": [
        "## Mengunduh Dataset dari Kaggle"
      ]
    },
    {
      "cell_type": "code",
      "execution_count": 2,
      "metadata": {
        "colab": {
          "base_uri": "https://localhost:8080/",
          "height": 72
        },
        "id": "VemfICFEilct",
        "outputId": "20fa13e9-de34-460b-d91c-f93a9615a573"
      },
      "outputs": [
        {
          "output_type": "display_data",
          "data": {
            "text/plain": [
              "<IPython.core.display.HTML object>"
            ],
            "text/html": [
              "\n",
              "     <input type=\"file\" id=\"files-ed5ab702-e4c3-452c-8e0a-b2219e5500fa\" name=\"files[]\" multiple disabled\n",
              "        style=\"border:none\" />\n",
              "     <output id=\"result-ed5ab702-e4c3-452c-8e0a-b2219e5500fa\">\n",
              "      Upload widget is only available when the cell has been executed in the\n",
              "      current browser session. Please rerun this cell to enable.\n",
              "      </output>\n",
              "      <script>// Copyright 2017 Google LLC\n",
              "//\n",
              "// Licensed under the Apache License, Version 2.0 (the \"License\");\n",
              "// you may not use this file except in compliance with the License.\n",
              "// You may obtain a copy of the License at\n",
              "//\n",
              "//      http://www.apache.org/licenses/LICENSE-2.0\n",
              "//\n",
              "// Unless required by applicable law or agreed to in writing, software\n",
              "// distributed under the License is distributed on an \"AS IS\" BASIS,\n",
              "// WITHOUT WARRANTIES OR CONDITIONS OF ANY KIND, either express or implied.\n",
              "// See the License for the specific language governing permissions and\n",
              "// limitations under the License.\n",
              "\n",
              "/**\n",
              " * @fileoverview Helpers for google.colab Python module.\n",
              " */\n",
              "(function(scope) {\n",
              "function span(text, styleAttributes = {}) {\n",
              "  const element = document.createElement('span');\n",
              "  element.textContent = text;\n",
              "  for (const key of Object.keys(styleAttributes)) {\n",
              "    element.style[key] = styleAttributes[key];\n",
              "  }\n",
              "  return element;\n",
              "}\n",
              "\n",
              "// Max number of bytes which will be uploaded at a time.\n",
              "const MAX_PAYLOAD_SIZE = 100 * 1024;\n",
              "\n",
              "function _uploadFiles(inputId, outputId) {\n",
              "  const steps = uploadFilesStep(inputId, outputId);\n",
              "  const outputElement = document.getElementById(outputId);\n",
              "  // Cache steps on the outputElement to make it available for the next call\n",
              "  // to uploadFilesContinue from Python.\n",
              "  outputElement.steps = steps;\n",
              "\n",
              "  return _uploadFilesContinue(outputId);\n",
              "}\n",
              "\n",
              "// This is roughly an async generator (not supported in the browser yet),\n",
              "// where there are multiple asynchronous steps and the Python side is going\n",
              "// to poll for completion of each step.\n",
              "// This uses a Promise to block the python side on completion of each step,\n",
              "// then passes the result of the previous step as the input to the next step.\n",
              "function _uploadFilesContinue(outputId) {\n",
              "  const outputElement = document.getElementById(outputId);\n",
              "  const steps = outputElement.steps;\n",
              "\n",
              "  const next = steps.next(outputElement.lastPromiseValue);\n",
              "  return Promise.resolve(next.value.promise).then((value) => {\n",
              "    // Cache the last promise value to make it available to the next\n",
              "    // step of the generator.\n",
              "    outputElement.lastPromiseValue = value;\n",
              "    return next.value.response;\n",
              "  });\n",
              "}\n",
              "\n",
              "/**\n",
              " * Generator function which is called between each async step of the upload\n",
              " * process.\n",
              " * @param {string} inputId Element ID of the input file picker element.\n",
              " * @param {string} outputId Element ID of the output display.\n",
              " * @return {!Iterable<!Object>} Iterable of next steps.\n",
              " */\n",
              "function* uploadFilesStep(inputId, outputId) {\n",
              "  const inputElement = document.getElementById(inputId);\n",
              "  inputElement.disabled = false;\n",
              "\n",
              "  const outputElement = document.getElementById(outputId);\n",
              "  outputElement.innerHTML = '';\n",
              "\n",
              "  const pickedPromise = new Promise((resolve) => {\n",
              "    inputElement.addEventListener('change', (e) => {\n",
              "      resolve(e.target.files);\n",
              "    });\n",
              "  });\n",
              "\n",
              "  const cancel = document.createElement('button');\n",
              "  inputElement.parentElement.appendChild(cancel);\n",
              "  cancel.textContent = 'Cancel upload';\n",
              "  const cancelPromise = new Promise((resolve) => {\n",
              "    cancel.onclick = () => {\n",
              "      resolve(null);\n",
              "    };\n",
              "  });\n",
              "\n",
              "  // Wait for the user to pick the files.\n",
              "  const files = yield {\n",
              "    promise: Promise.race([pickedPromise, cancelPromise]),\n",
              "    response: {\n",
              "      action: 'starting',\n",
              "    }\n",
              "  };\n",
              "\n",
              "  cancel.remove();\n",
              "\n",
              "  // Disable the input element since further picks are not allowed.\n",
              "  inputElement.disabled = true;\n",
              "\n",
              "  if (!files) {\n",
              "    return {\n",
              "      response: {\n",
              "        action: 'complete',\n",
              "      }\n",
              "    };\n",
              "  }\n",
              "\n",
              "  for (const file of files) {\n",
              "    const li = document.createElement('li');\n",
              "    li.append(span(file.name, {fontWeight: 'bold'}));\n",
              "    li.append(span(\n",
              "        `(${file.type || 'n/a'}) - ${file.size} bytes, ` +\n",
              "        `last modified: ${\n",
              "            file.lastModifiedDate ? file.lastModifiedDate.toLocaleDateString() :\n",
              "                                    'n/a'} - `));\n",
              "    const percent = span('0% done');\n",
              "    li.appendChild(percent);\n",
              "\n",
              "    outputElement.appendChild(li);\n",
              "\n",
              "    const fileDataPromise = new Promise((resolve) => {\n",
              "      const reader = new FileReader();\n",
              "      reader.onload = (e) => {\n",
              "        resolve(e.target.result);\n",
              "      };\n",
              "      reader.readAsArrayBuffer(file);\n",
              "    });\n",
              "    // Wait for the data to be ready.\n",
              "    let fileData = yield {\n",
              "      promise: fileDataPromise,\n",
              "      response: {\n",
              "        action: 'continue',\n",
              "      }\n",
              "    };\n",
              "\n",
              "    // Use a chunked sending to avoid message size limits. See b/62115660.\n",
              "    let position = 0;\n",
              "    do {\n",
              "      const length = Math.min(fileData.byteLength - position, MAX_PAYLOAD_SIZE);\n",
              "      const chunk = new Uint8Array(fileData, position, length);\n",
              "      position += length;\n",
              "\n",
              "      const base64 = btoa(String.fromCharCode.apply(null, chunk));\n",
              "      yield {\n",
              "        response: {\n",
              "          action: 'append',\n",
              "          file: file.name,\n",
              "          data: base64,\n",
              "        },\n",
              "      };\n",
              "\n",
              "      let percentDone = fileData.byteLength === 0 ?\n",
              "          100 :\n",
              "          Math.round((position / fileData.byteLength) * 100);\n",
              "      percent.textContent = `${percentDone}% done`;\n",
              "\n",
              "    } while (position < fileData.byteLength);\n",
              "  }\n",
              "\n",
              "  // All done.\n",
              "  yield {\n",
              "    response: {\n",
              "      action: 'complete',\n",
              "    }\n",
              "  };\n",
              "}\n",
              "\n",
              "scope.google = scope.google || {};\n",
              "scope.google.colab = scope.google.colab || {};\n",
              "scope.google.colab._files = {\n",
              "  _uploadFiles,\n",
              "  _uploadFilesContinue,\n",
              "};\n",
              "})(self);\n",
              "</script> "
            ]
          },
          "metadata": {}
        },
        {
          "output_type": "stream",
          "name": "stdout",
          "text": [
            "Saving kaggle (4).json to kaggle (4).json\n"
          ]
        }
      ],
      "source": [
        "from google.colab import files\n",
        "uploaded = files.upload()"
      ]
    },
    {
      "cell_type": "code",
      "execution_count": 3,
      "metadata": {
        "colab": {
          "base_uri": "https://localhost:8080/"
        },
        "id": "C9ity7QUio-G",
        "outputId": "4830e2be-45cd-4e1b-c3b4-8ecf5b5f1e8d"
      },
      "outputs": [
        {
          "output_type": "stream",
          "name": "stdout",
          "text": [
            "Dataset URL: https://www.kaggle.com/datasets/bharathreddybollu/hospital-wait-time-data\n",
            "License(s): MIT\n",
            "Downloading hospital-wait-time-data.zip to /content\n",
            "  0% 0.00/587k [00:00<?, ?B/s]\n",
            "100% 587k/587k [00:00<00:00, 977MB/s]\n"
          ]
        }
      ],
      "source": [
        "import os\n",
        "import shutil\n",
        "\n",
        "# Rename file yang diupload ke kaggle.json\n",
        "original_filename = next(iter(uploaded))  # Ambil nama file hasil upload\n",
        "os.rename(original_filename, \"kaggle.json\")\n",
        "\n",
        "# Buat folder ~/.kaggle dan pindahkan file\n",
        "os.makedirs(\"/root/.kaggle\", exist_ok=True)\n",
        "shutil.move(\"kaggle.json\", \"/root/.kaggle/kaggle.json\")\n",
        "\n",
        "# Ubah permission agar tidak error\n",
        "os.chmod(\"/root/.kaggle/kaggle.json\", 600)\n",
        "\n",
        "# Download file ZIP dari dataset\n",
        "!kaggle datasets download -d bharathreddybollu/hospital-wait-time-data\n",
        "\n",
        "# Ekstrak file ZIP\n",
        "import zipfile\n",
        "\n",
        "with zipfile.ZipFile(\"hospital-wait-time-data.zip\", \"r\") as zip_ref:\n",
        "    zip_ref.extractall()\n"
      ]
    },
    {
      "cell_type": "markdown",
      "metadata": {
        "id": "wSM7AxuhEEnz"
      },
      "source": [
        "## Memuat Data ke Pandas DataFrame"
      ]
    },
    {
      "cell_type": "code",
      "execution_count": 4,
      "metadata": {
        "colab": {
          "base_uri": "https://localhost:8080/",
          "height": 359
        },
        "id": "lxtbwSxfitgM",
        "outputId": "3ba17245-042e-456a-eb01-010a78457ac5"
      },
      "outputs": [
        {
          "output_type": "execute_result",
          "data": {
            "text/plain": [
              "  PatientID             AgeGroup       Department      AppointmentType  \\\n",
              "0   P100000        Adult (36-60)      Orthopedics          New Patient   \n",
              "1   P100001        Adult (36-60)       Cardiology  Specialist Referral   \n",
              "2   P100002  Young Adult (18-35)  General Surgery  Specialist Referral   \n",
              "3   P100003        Adult (36-60)        Emergency          Urgent Care   \n",
              "4   P100004         Senior (61+)       Cardiology          Urgent Care   \n",
              "\n",
              "  InsuranceType ArrivalMethod   VisitDate   AppointmentTime ActualArrivalTime  \\\n",
              "0       Private       Walk-in  15-03-2024  15-03-2024 14:00  15-03-2024 13:32   \n",
              "1      Self-pay     Scheduled  01-01-2024  01-01-2024 09:45  01-01-2024 09:36   \n",
              "2      Medicaid     Scheduled  19-01-2024  19-01-2024 16:15  19-01-2024 16:07   \n",
              "3           NaN     Emergency  27-03-2024  27-03-2024 11:00  27-03-2024 10:59   \n",
              "4      Medicare     Scheduled  10-03-2024  10-03-2024 16:45  10-03-2024 16:48   \n",
              "\n",
              "        CheckInTime  ... TestsToDischargeTime TotalTimeInHospital  \\\n",
              "0  15-03-2024 13:36  ...            71.066667          151.750000   \n",
              "1  01-01-2024 09:41  ...             4.500000          141.050000   \n",
              "2  19-01-2024 16:10  ...           119.933333          387.050000   \n",
              "3  27-03-2024 11:02  ...            13.183333           37.183333   \n",
              "4  10-03-2024 16:52  ...            14.466667          223.083333   \n",
              "\n",
              "  TotalDelayTime ArrivalHour ArrivalDayOfWeek ArrivalMonth OccupancyRateBin  \\\n",
              "0     123.766667          13                4            3              Low   \n",
              "1     128.583333           9                0            1           Medium   \n",
              "2     376.700000          16                4            1        Very High   \n",
              "3      37.116667          10                2            3              Low   \n",
              "4     222.850000          16                6            3             High   \n",
              "\n",
              "  ProvidersOnShiftBin  NursesOnShiftBin StaffPatientRatioBin  \n",
              "0          (5.0, 7.0]      (12.0, 15.0]           (0.2, 0.3]  \n",
              "1          (5.0, 7.0]      (12.0, 15.0]         (0.099, 0.2]  \n",
              "2          (3.0, 5.0]        (6.0, 9.0]         (0.099, 0.2]  \n",
              "3          (3.0, 5.0]      (2.999, 6.0]           (0.3, 0.4]  \n",
              "4          (7.0, 8.0]       (9.0, 12.0]           (0.2, 0.3]  \n",
              "\n",
              "[5 rows x 57 columns]"
            ],
            "text/html": [
              "\n",
              "  <div id=\"df-bb7583ac-0cdf-4269-8549-e7cbcc85b914\" class=\"colab-df-container\">\n",
              "    <div>\n",
              "<style scoped>\n",
              "    .dataframe tbody tr th:only-of-type {\n",
              "        vertical-align: middle;\n",
              "    }\n",
              "\n",
              "    .dataframe tbody tr th {\n",
              "        vertical-align: top;\n",
              "    }\n",
              "\n",
              "    .dataframe thead th {\n",
              "        text-align: right;\n",
              "    }\n",
              "</style>\n",
              "<table border=\"1\" class=\"dataframe\">\n",
              "  <thead>\n",
              "    <tr style=\"text-align: right;\">\n",
              "      <th></th>\n",
              "      <th>PatientID</th>\n",
              "      <th>AgeGroup</th>\n",
              "      <th>Department</th>\n",
              "      <th>AppointmentType</th>\n",
              "      <th>InsuranceType</th>\n",
              "      <th>ArrivalMethod</th>\n",
              "      <th>VisitDate</th>\n",
              "      <th>AppointmentTime</th>\n",
              "      <th>ActualArrivalTime</th>\n",
              "      <th>CheckInTime</th>\n",
              "      <th>...</th>\n",
              "      <th>TestsToDischargeTime</th>\n",
              "      <th>TotalTimeInHospital</th>\n",
              "      <th>TotalDelayTime</th>\n",
              "      <th>ArrivalHour</th>\n",
              "      <th>ArrivalDayOfWeek</th>\n",
              "      <th>ArrivalMonth</th>\n",
              "      <th>OccupancyRateBin</th>\n",
              "      <th>ProvidersOnShiftBin</th>\n",
              "      <th>NursesOnShiftBin</th>\n",
              "      <th>StaffPatientRatioBin</th>\n",
              "    </tr>\n",
              "  </thead>\n",
              "  <tbody>\n",
              "    <tr>\n",
              "      <th>0</th>\n",
              "      <td>P100000</td>\n",
              "      <td>Adult (36-60)</td>\n",
              "      <td>Orthopedics</td>\n",
              "      <td>New Patient</td>\n",
              "      <td>Private</td>\n",
              "      <td>Walk-in</td>\n",
              "      <td>15-03-2024</td>\n",
              "      <td>15-03-2024 14:00</td>\n",
              "      <td>15-03-2024 13:32</td>\n",
              "      <td>15-03-2024 13:36</td>\n",
              "      <td>...</td>\n",
              "      <td>71.066667</td>\n",
              "      <td>151.750000</td>\n",
              "      <td>123.766667</td>\n",
              "      <td>13</td>\n",
              "      <td>4</td>\n",
              "      <td>3</td>\n",
              "      <td>Low</td>\n",
              "      <td>(5.0, 7.0]</td>\n",
              "      <td>(12.0, 15.0]</td>\n",
              "      <td>(0.2, 0.3]</td>\n",
              "    </tr>\n",
              "    <tr>\n",
              "      <th>1</th>\n",
              "      <td>P100001</td>\n",
              "      <td>Adult (36-60)</td>\n",
              "      <td>Cardiology</td>\n",
              "      <td>Specialist Referral</td>\n",
              "      <td>Self-pay</td>\n",
              "      <td>Scheduled</td>\n",
              "      <td>01-01-2024</td>\n",
              "      <td>01-01-2024 09:45</td>\n",
              "      <td>01-01-2024 09:36</td>\n",
              "      <td>01-01-2024 09:41</td>\n",
              "      <td>...</td>\n",
              "      <td>4.500000</td>\n",
              "      <td>141.050000</td>\n",
              "      <td>128.583333</td>\n",
              "      <td>9</td>\n",
              "      <td>0</td>\n",
              "      <td>1</td>\n",
              "      <td>Medium</td>\n",
              "      <td>(5.0, 7.0]</td>\n",
              "      <td>(12.0, 15.0]</td>\n",
              "      <td>(0.099, 0.2]</td>\n",
              "    </tr>\n",
              "    <tr>\n",
              "      <th>2</th>\n",
              "      <td>P100002</td>\n",
              "      <td>Young Adult (18-35)</td>\n",
              "      <td>General Surgery</td>\n",
              "      <td>Specialist Referral</td>\n",
              "      <td>Medicaid</td>\n",
              "      <td>Scheduled</td>\n",
              "      <td>19-01-2024</td>\n",
              "      <td>19-01-2024 16:15</td>\n",
              "      <td>19-01-2024 16:07</td>\n",
              "      <td>19-01-2024 16:10</td>\n",
              "      <td>...</td>\n",
              "      <td>119.933333</td>\n",
              "      <td>387.050000</td>\n",
              "      <td>376.700000</td>\n",
              "      <td>16</td>\n",
              "      <td>4</td>\n",
              "      <td>1</td>\n",
              "      <td>Very High</td>\n",
              "      <td>(3.0, 5.0]</td>\n",
              "      <td>(6.0, 9.0]</td>\n",
              "      <td>(0.099, 0.2]</td>\n",
              "    </tr>\n",
              "    <tr>\n",
              "      <th>3</th>\n",
              "      <td>P100003</td>\n",
              "      <td>Adult (36-60)</td>\n",
              "      <td>Emergency</td>\n",
              "      <td>Urgent Care</td>\n",
              "      <td>NaN</td>\n",
              "      <td>Emergency</td>\n",
              "      <td>27-03-2024</td>\n",
              "      <td>27-03-2024 11:00</td>\n",
              "      <td>27-03-2024 10:59</td>\n",
              "      <td>27-03-2024 11:02</td>\n",
              "      <td>...</td>\n",
              "      <td>13.183333</td>\n",
              "      <td>37.183333</td>\n",
              "      <td>37.116667</td>\n",
              "      <td>10</td>\n",
              "      <td>2</td>\n",
              "      <td>3</td>\n",
              "      <td>Low</td>\n",
              "      <td>(3.0, 5.0]</td>\n",
              "      <td>(2.999, 6.0]</td>\n",
              "      <td>(0.3, 0.4]</td>\n",
              "    </tr>\n",
              "    <tr>\n",
              "      <th>4</th>\n",
              "      <td>P100004</td>\n",
              "      <td>Senior (61+)</td>\n",
              "      <td>Cardiology</td>\n",
              "      <td>Urgent Care</td>\n",
              "      <td>Medicare</td>\n",
              "      <td>Scheduled</td>\n",
              "      <td>10-03-2024</td>\n",
              "      <td>10-03-2024 16:45</td>\n",
              "      <td>10-03-2024 16:48</td>\n",
              "      <td>10-03-2024 16:52</td>\n",
              "      <td>...</td>\n",
              "      <td>14.466667</td>\n",
              "      <td>223.083333</td>\n",
              "      <td>222.850000</td>\n",
              "      <td>16</td>\n",
              "      <td>6</td>\n",
              "      <td>3</td>\n",
              "      <td>High</td>\n",
              "      <td>(7.0, 8.0]</td>\n",
              "      <td>(9.0, 12.0]</td>\n",
              "      <td>(0.2, 0.3]</td>\n",
              "    </tr>\n",
              "  </tbody>\n",
              "</table>\n",
              "<p>5 rows × 57 columns</p>\n",
              "</div>\n",
              "    <div class=\"colab-df-buttons\">\n",
              "\n",
              "  <div class=\"colab-df-container\">\n",
              "    <button class=\"colab-df-convert\" onclick=\"convertToInteractive('df-bb7583ac-0cdf-4269-8549-e7cbcc85b914')\"\n",
              "            title=\"Convert this dataframe to an interactive table.\"\n",
              "            style=\"display:none;\">\n",
              "\n",
              "  <svg xmlns=\"http://www.w3.org/2000/svg\" height=\"24px\" viewBox=\"0 -960 960 960\">\n",
              "    <path d=\"M120-120v-720h720v720H120Zm60-500h600v-160H180v160Zm220 220h160v-160H400v160Zm0 220h160v-160H400v160ZM180-400h160v-160H180v160Zm440 0h160v-160H620v160ZM180-180h160v-160H180v160Zm440 0h160v-160H620v160Z\"/>\n",
              "  </svg>\n",
              "    </button>\n",
              "\n",
              "  <style>\n",
              "    .colab-df-container {\n",
              "      display:flex;\n",
              "      gap: 12px;\n",
              "    }\n",
              "\n",
              "    .colab-df-convert {\n",
              "      background-color: #E8F0FE;\n",
              "      border: none;\n",
              "      border-radius: 50%;\n",
              "      cursor: pointer;\n",
              "      display: none;\n",
              "      fill: #1967D2;\n",
              "      height: 32px;\n",
              "      padding: 0 0 0 0;\n",
              "      width: 32px;\n",
              "    }\n",
              "\n",
              "    .colab-df-convert:hover {\n",
              "      background-color: #E2EBFA;\n",
              "      box-shadow: 0px 1px 2px rgba(60, 64, 67, 0.3), 0px 1px 3px 1px rgba(60, 64, 67, 0.15);\n",
              "      fill: #174EA6;\n",
              "    }\n",
              "\n",
              "    .colab-df-buttons div {\n",
              "      margin-bottom: 4px;\n",
              "    }\n",
              "\n",
              "    [theme=dark] .colab-df-convert {\n",
              "      background-color: #3B4455;\n",
              "      fill: #D2E3FC;\n",
              "    }\n",
              "\n",
              "    [theme=dark] .colab-df-convert:hover {\n",
              "      background-color: #434B5C;\n",
              "      box-shadow: 0px 1px 3px 1px rgba(0, 0, 0, 0.15);\n",
              "      filter: drop-shadow(0px 1px 2px rgba(0, 0, 0, 0.3));\n",
              "      fill: #FFFFFF;\n",
              "    }\n",
              "  </style>\n",
              "\n",
              "    <script>\n",
              "      const buttonEl =\n",
              "        document.querySelector('#df-bb7583ac-0cdf-4269-8549-e7cbcc85b914 button.colab-df-convert');\n",
              "      buttonEl.style.display =\n",
              "        google.colab.kernel.accessAllowed ? 'block' : 'none';\n",
              "\n",
              "      async function convertToInteractive(key) {\n",
              "        const element = document.querySelector('#df-bb7583ac-0cdf-4269-8549-e7cbcc85b914');\n",
              "        const dataTable =\n",
              "          await google.colab.kernel.invokeFunction('convertToInteractive',\n",
              "                                                    [key], {});\n",
              "        if (!dataTable) return;\n",
              "\n",
              "        const docLinkHtml = 'Like what you see? Visit the ' +\n",
              "          '<a target=\"_blank\" href=https://colab.research.google.com/notebooks/data_table.ipynb>data table notebook</a>'\n",
              "          + ' to learn more about interactive tables.';\n",
              "        element.innerHTML = '';\n",
              "        dataTable['output_type'] = 'display_data';\n",
              "        await google.colab.output.renderOutput(dataTable, element);\n",
              "        const docLink = document.createElement('div');\n",
              "        docLink.innerHTML = docLinkHtml;\n",
              "        element.appendChild(docLink);\n",
              "      }\n",
              "    </script>\n",
              "  </div>\n",
              "\n",
              "\n",
              "    <div id=\"df-8c61521f-cea7-4751-b863-6bf1f6bdd6cc\">\n",
              "      <button class=\"colab-df-quickchart\" onclick=\"quickchart('df-8c61521f-cea7-4751-b863-6bf1f6bdd6cc')\"\n",
              "                title=\"Suggest charts\"\n",
              "                style=\"display:none;\">\n",
              "\n",
              "<svg xmlns=\"http://www.w3.org/2000/svg\" height=\"24px\"viewBox=\"0 0 24 24\"\n",
              "     width=\"24px\">\n",
              "    <g>\n",
              "        <path d=\"M19 3H5c-1.1 0-2 .9-2 2v14c0 1.1.9 2 2 2h14c1.1 0 2-.9 2-2V5c0-1.1-.9-2-2-2zM9 17H7v-7h2v7zm4 0h-2V7h2v10zm4 0h-2v-4h2v4z\"/>\n",
              "    </g>\n",
              "</svg>\n",
              "      </button>\n",
              "\n",
              "<style>\n",
              "  .colab-df-quickchart {\n",
              "      --bg-color: #E8F0FE;\n",
              "      --fill-color: #1967D2;\n",
              "      --hover-bg-color: #E2EBFA;\n",
              "      --hover-fill-color: #174EA6;\n",
              "      --disabled-fill-color: #AAA;\n",
              "      --disabled-bg-color: #DDD;\n",
              "  }\n",
              "\n",
              "  [theme=dark] .colab-df-quickchart {\n",
              "      --bg-color: #3B4455;\n",
              "      --fill-color: #D2E3FC;\n",
              "      --hover-bg-color: #434B5C;\n",
              "      --hover-fill-color: #FFFFFF;\n",
              "      --disabled-bg-color: #3B4455;\n",
              "      --disabled-fill-color: #666;\n",
              "  }\n",
              "\n",
              "  .colab-df-quickchart {\n",
              "    background-color: var(--bg-color);\n",
              "    border: none;\n",
              "    border-radius: 50%;\n",
              "    cursor: pointer;\n",
              "    display: none;\n",
              "    fill: var(--fill-color);\n",
              "    height: 32px;\n",
              "    padding: 0;\n",
              "    width: 32px;\n",
              "  }\n",
              "\n",
              "  .colab-df-quickchart:hover {\n",
              "    background-color: var(--hover-bg-color);\n",
              "    box-shadow: 0 1px 2px rgba(60, 64, 67, 0.3), 0 1px 3px 1px rgba(60, 64, 67, 0.15);\n",
              "    fill: var(--button-hover-fill-color);\n",
              "  }\n",
              "\n",
              "  .colab-df-quickchart-complete:disabled,\n",
              "  .colab-df-quickchart-complete:disabled:hover {\n",
              "    background-color: var(--disabled-bg-color);\n",
              "    fill: var(--disabled-fill-color);\n",
              "    box-shadow: none;\n",
              "  }\n",
              "\n",
              "  .colab-df-spinner {\n",
              "    border: 2px solid var(--fill-color);\n",
              "    border-color: transparent;\n",
              "    border-bottom-color: var(--fill-color);\n",
              "    animation:\n",
              "      spin 1s steps(1) infinite;\n",
              "  }\n",
              "\n",
              "  @keyframes spin {\n",
              "    0% {\n",
              "      border-color: transparent;\n",
              "      border-bottom-color: var(--fill-color);\n",
              "      border-left-color: var(--fill-color);\n",
              "    }\n",
              "    20% {\n",
              "      border-color: transparent;\n",
              "      border-left-color: var(--fill-color);\n",
              "      border-top-color: var(--fill-color);\n",
              "    }\n",
              "    30% {\n",
              "      border-color: transparent;\n",
              "      border-left-color: var(--fill-color);\n",
              "      border-top-color: var(--fill-color);\n",
              "      border-right-color: var(--fill-color);\n",
              "    }\n",
              "    40% {\n",
              "      border-color: transparent;\n",
              "      border-right-color: var(--fill-color);\n",
              "      border-top-color: var(--fill-color);\n",
              "    }\n",
              "    60% {\n",
              "      border-color: transparent;\n",
              "      border-right-color: var(--fill-color);\n",
              "    }\n",
              "    80% {\n",
              "      border-color: transparent;\n",
              "      border-right-color: var(--fill-color);\n",
              "      border-bottom-color: var(--fill-color);\n",
              "    }\n",
              "    90% {\n",
              "      border-color: transparent;\n",
              "      border-bottom-color: var(--fill-color);\n",
              "    }\n",
              "  }\n",
              "</style>\n",
              "\n",
              "      <script>\n",
              "        async function quickchart(key) {\n",
              "          const quickchartButtonEl =\n",
              "            document.querySelector('#' + key + ' button');\n",
              "          quickchartButtonEl.disabled = true;  // To prevent multiple clicks.\n",
              "          quickchartButtonEl.classList.add('colab-df-spinner');\n",
              "          try {\n",
              "            const charts = await google.colab.kernel.invokeFunction(\n",
              "                'suggestCharts', [key], {});\n",
              "          } catch (error) {\n",
              "            console.error('Error during call to suggestCharts:', error);\n",
              "          }\n",
              "          quickchartButtonEl.classList.remove('colab-df-spinner');\n",
              "          quickchartButtonEl.classList.add('colab-df-quickchart-complete');\n",
              "        }\n",
              "        (() => {\n",
              "          let quickchartButtonEl =\n",
              "            document.querySelector('#df-8c61521f-cea7-4751-b863-6bf1f6bdd6cc button');\n",
              "          quickchartButtonEl.style.display =\n",
              "            google.colab.kernel.accessAllowed ? 'block' : 'none';\n",
              "        })();\n",
              "      </script>\n",
              "    </div>\n",
              "\n",
              "    </div>\n",
              "  </div>\n"
            ],
            "application/vnd.google.colaboratory.intrinsic+json": {
              "type": "dataframe",
              "variable_name": "df"
            }
          },
          "metadata": {},
          "execution_count": 4
        }
      ],
      "source": [
        "# Perhatikan penulisan nama file: dua spasi & huruf besar I di \"TIme\"\n",
        "df = pd.read_csv(\"Hospital Wait  TIme Data.csv\")\n",
        "\n",
        "# Tampilkan beberapa baris awal\n",
        "df.head()\n"
      ]
    },
    {
      "cell_type": "markdown",
      "metadata": {
        "id": "8QSci1zwDmju"
      },
      "source": [
        "# EDA (Eksplorasi Data)"
      ]
    },
    {
      "cell_type": "code",
      "execution_count": 5,
      "metadata": {
        "colab": {
          "base_uri": "https://localhost:8080/"
        },
        "id": "hPSOeHY7ixHN",
        "outputId": "27378323-1381-485d-e725-7ee483fbc6bf"
      },
      "outputs": [
        {
          "output_type": "stream",
          "name": "stdout",
          "text": [
            "<class 'pandas.core.frame.DataFrame'>\n",
            "RangeIndex: 5000 entries, 0 to 4999\n",
            "Data columns (total 57 columns):\n",
            " #   Column                          Non-Null Count  Dtype  \n",
            "---  ------                          --------------  -----  \n",
            " 0   PatientID                       5000 non-null   object \n",
            " 1   AgeGroup                        5000 non-null   object \n",
            " 2   Department                      5000 non-null   object \n",
            " 3   AppointmentType                 5000 non-null   object \n",
            " 4   InsuranceType                   4022 non-null   object \n",
            " 5   ArrivalMethod                   5000 non-null   object \n",
            " 6   VisitDate                       5000 non-null   object \n",
            " 7   AppointmentTime                 5000 non-null   object \n",
            " 8   ActualArrivalTime               5000 non-null   object \n",
            " 9   CheckInTime                     5000 non-null   object \n",
            " 10  TriageCompleteTime              5000 non-null   object \n",
            " 11  ProviderStartTime               5000 non-null   object \n",
            " 12  ProviderEndTime                 5000 non-null   object \n",
            " 13  TestsCompleteTime               5000 non-null   object \n",
            " 14  DischargeTime                   5000 non-null   object \n",
            " 15  TriageCategory                  5000 non-null   object \n",
            " 16  ReasonForVisit                  5000 non-null   object \n",
            " 17  TestsOrdered                    3510 non-null   object \n",
            " 18  ConsultationNeeded              5000 non-null   bool   \n",
            " 19  ProviderID                      5000 non-null   object \n",
            " 20  RoomNumber                      5000 non-null   object \n",
            " 21  FacilityOccupancyRate           5000 non-null   float64\n",
            " 22  ProvidersOnShift                5000 non-null   int64  \n",
            " 23  NursesOnShift                   5000 non-null   int64  \n",
            " 24  StaffToPatientRatio             5000 non-null   float64\n",
            " 25  ArrivalDateTime                 5000 non-null   object \n",
            " 26  RegistrationTime                1489 non-null   object \n",
            " 27  AssignedDepartment              5000 non-null   object \n",
            " 28  FirstSeenByNurseTime            5000 non-null   object \n",
            " 29  DoctorOrProcedureStartTime      5000 non-null   object \n",
            " 30  IsRegistered                    5000 non-null   int64  \n",
            " 31  IsOnlineBooking                 5000 non-null   int64  \n",
            " 32  BookingType                     5000 non-null   object \n",
            " 33  Year                            5000 non-null   int64  \n",
            " 34  Month                           5000 non-null   object \n",
            " 35  Day                             5000 non-null   int64  \n",
            " 36  DayOfWeek                       5000 non-null   object \n",
            " 37  IsWeekend                       5000 non-null   bool   \n",
            " 38  Quarter                         5000 non-null   int64  \n",
            " 39  ArrivalDelayTime                5000 non-null   float64\n",
            " 40  RegistrationWaitTimeTime        1489 non-null   float64\n",
            " 41  RegistrationToCheckInTime       1489 non-null   float64\n",
            " 42  CheckInToNurseTime              5000 non-null   float64\n",
            " 43  NurseToTriageCompleteTime       5000 non-null   float64\n",
            " 44  TriageToProviderStartTime       5000 non-null   float64\n",
            " 45  ConsultationDurationTime        5000 non-null   float64\n",
            " 46  ProviderEndToTestsCompleteTime  5000 non-null   float64\n",
            " 47  TestsToDischargeTime            5000 non-null   float64\n",
            " 48  TotalTimeInHospital             5000 non-null   float64\n",
            " 49  TotalDelayTime                  5000 non-null   float64\n",
            " 50  ArrivalHour                     5000 non-null   int64  \n",
            " 51  ArrivalDayOfWeek                5000 non-null   int64  \n",
            " 52  ArrivalMonth                    5000 non-null   int64  \n",
            " 53  OccupancyRateBin                5000 non-null   object \n",
            " 54  ProvidersOnShiftBin             5000 non-null   object \n",
            " 55  NursesOnShiftBin                5000 non-null   object \n",
            " 56  StaffPatientRatioBin            5000 non-null   object \n",
            "dtypes: bool(2), float64(13), int64(10), object(32)\n",
            "memory usage: 2.1+ MB\n",
            "None\n",
            "PatientID                            0\n",
            "AgeGroup                             0\n",
            "Department                           0\n",
            "AppointmentType                      0\n",
            "InsuranceType                      978\n",
            "ArrivalMethod                        0\n",
            "VisitDate                            0\n",
            "AppointmentTime                      0\n",
            "ActualArrivalTime                    0\n",
            "CheckInTime                          0\n",
            "TriageCompleteTime                   0\n",
            "ProviderStartTime                    0\n",
            "ProviderEndTime                      0\n",
            "TestsCompleteTime                    0\n",
            "DischargeTime                        0\n",
            "TriageCategory                       0\n",
            "ReasonForVisit                       0\n",
            "TestsOrdered                      1490\n",
            "ConsultationNeeded                   0\n",
            "ProviderID                           0\n",
            "RoomNumber                           0\n",
            "FacilityOccupancyRate                0\n",
            "ProvidersOnShift                     0\n",
            "NursesOnShift                        0\n",
            "StaffToPatientRatio                  0\n",
            "ArrivalDateTime                      0\n",
            "RegistrationTime                  3511\n",
            "AssignedDepartment                   0\n",
            "FirstSeenByNurseTime                 0\n",
            "DoctorOrProcedureStartTime           0\n",
            "IsRegistered                         0\n",
            "IsOnlineBooking                      0\n",
            "BookingType                          0\n",
            "Year                                 0\n",
            "Month                                0\n",
            "Day                                  0\n",
            "DayOfWeek                            0\n",
            "IsWeekend                            0\n",
            "Quarter                              0\n",
            "ArrivalDelayTime                     0\n",
            "RegistrationWaitTimeTime          3511\n",
            "RegistrationToCheckInTime         3511\n",
            "CheckInToNurseTime                   0\n",
            "NurseToTriageCompleteTime            0\n",
            "TriageToProviderStartTime            0\n",
            "ConsultationDurationTime             0\n",
            "ProviderEndToTestsCompleteTime       0\n",
            "TestsToDischargeTime                 0\n",
            "TotalTimeInHospital                  0\n",
            "TotalDelayTime                       0\n",
            "ArrivalHour                          0\n",
            "ArrivalDayOfWeek                     0\n",
            "ArrivalMonth                         0\n",
            "OccupancyRateBin                     0\n",
            "ProvidersOnShiftBin                  0\n",
            "NursesOnShiftBin                     0\n",
            "StaffPatientRatioBin                 0\n",
            "dtype: int64\n"
          ]
        }
      ],
      "source": [
        "print(df.info())\n",
        "print(df.isnull().sum())"
      ]
    },
    {
      "cell_type": "markdown",
      "metadata": {
        "id": "7w_ay94yEK76"
      },
      "source": [
        "## Statistik Deskriptif"
      ]
    },
    {
      "cell_type": "code",
      "execution_count": 6,
      "metadata": {
        "colab": {
          "base_uri": "https://localhost:8080/"
        },
        "id": "qfaXFQjBiy_v",
        "outputId": "26d2241a-2fec-41ec-885a-c5482d15e688"
      },
      "outputs": [
        {
          "output_type": "stream",
          "name": "stdout",
          "text": [
            "Statistik Deskriptif:\n",
            "       FacilityOccupancyRate  ProvidersOnShift  NursesOnShift  \\\n",
            "count            5000.000000       5000.000000     5000.00000   \n",
            "mean                0.626616          4.986600        9.03420   \n",
            "std                 0.187395          1.994296        3.73098   \n",
            "min                 0.300000          2.000000        3.00000   \n",
            "25%                 0.460000          3.000000        6.00000   \n",
            "50%                 0.630000          5.000000        9.00000   \n",
            "75%                 0.790000          7.000000       12.00000   \n",
            "max                 0.950000          8.000000       15.00000   \n",
            "\n",
            "       StaffToPatientRatio  IsRegistered  IsOnlineBooking    Year         Day  \\\n",
            "count          5000.000000   5000.000000      5000.000000  5000.0  5000.00000   \n",
            "mean              0.302068      0.297800         0.702200  2024.0    15.67720   \n",
            "std               0.115172      0.457337         0.457337     0.0     8.80171   \n",
            "min               0.100000      0.000000         0.000000  2024.0     1.00000   \n",
            "25%               0.200000      0.000000         0.000000  2024.0     8.00000   \n",
            "50%               0.300000      0.000000         1.000000  2024.0    16.00000   \n",
            "75%               0.400000      1.000000         1.000000  2024.0    23.00000   \n",
            "max               0.500000      1.000000         1.000000  2024.0    31.00000   \n",
            "\n",
            "       Quarter  ArrivalDelayTime  ...  NurseToTriageCompleteTime  \\\n",
            "count   5000.0       5000.000000  ...                5000.000000   \n",
            "mean       1.0        -10.252520  ...                   3.971315   \n",
            "std        0.0         15.136408  ...                   1.156084   \n",
            "min        1.0        -61.083333  ...                   1.988871   \n",
            "25%        1.0        -20.716667  ...                   2.971829   \n",
            "50%        1.0         -9.983333  ...                   3.945299   \n",
            "75%        1.0          0.000000  ...                   4.978275   \n",
            "max        1.0         42.433333  ...                   5.992492   \n",
            "\n",
            "       TriageToProviderStartTime  ConsultationDurationTime  \\\n",
            "count                5000.000000               5000.000000   \n",
            "mean                   51.725690                 18.711503   \n",
            "std                    46.310201                  9.053914   \n",
            "min                     1.000000                  5.000000   \n",
            "25%                    18.712500                 11.966667   \n",
            "50%                    38.200000                 18.041667   \n",
            "75%                    71.216667                 24.725000   \n",
            "max                   355.766667                 58.300000   \n",
            "\n",
            "       ProviderEndToTestsCompleteTime  TestsToDischargeTime  \\\n",
            "count                     5000.000000           5000.000000   \n",
            "mean                        38.910703             44.700077   \n",
            "std                         38.349267             40.487970   \n",
            "min                          0.000000              2.000000   \n",
            "25%                          0.000000              9.995833   \n",
            "50%                         33.558333             22.091667   \n",
            "75%                         58.454167             79.100000   \n",
            "max                        232.033333            144.233333   \n",
            "\n",
            "       TotalTimeInHospital  TotalDelayTime  ArrivalHour  ArrivalDayOfWeek  \\\n",
            "count          5000.000000     5000.000000  5000.000000       5000.000000   \n",
            "mean            164.212827      151.842970    11.703600          3.002000   \n",
            "std              73.032820       74.450223     2.619756          2.018814   \n",
            "min              15.583333      -14.166667     7.000000          0.000000   \n",
            "25%             108.808333       96.529167     9.000000          1.000000   \n",
            "50%             156.958333      144.783333    12.000000          3.000000   \n",
            "75%             208.687500      198.262500    14.000000          5.000000   \n",
            "max             506.483333      496.700000    17.000000          6.000000   \n",
            "\n",
            "       ArrivalMonth  \n",
            "count   5000.000000  \n",
            "mean       2.002800  \n",
            "std        0.825184  \n",
            "min        1.000000  \n",
            "25%        1.000000  \n",
            "50%        2.000000  \n",
            "75%        3.000000  \n",
            "max        3.000000  \n",
            "\n",
            "[8 rows x 23 columns]\n"
          ]
        }
      ],
      "source": [
        "# Menampilkan statistik deskriptif untuk kolom numerik\n",
        "print(\"Statistik Deskriptif:\")\n",
        "print(df.describe())"
      ]
    },
    {
      "cell_type": "code",
      "execution_count": 7,
      "metadata": {
        "colab": {
          "base_uri": "https://localhost:8080/"
        },
        "id": "xGCtrHmxi0tV",
        "outputId": "d422fe0c-7ceb-4cec-8d27-2c9e9d1e0007"
      },
      "outputs": [
        {
          "output_type": "stream",
          "name": "stdout",
          "text": [
            "\n",
            "Statistik Deskriptif untuk Kolom Kategorikal:\n",
            "       PatientID       AgeGroup Department AppointmentType InsuranceType  \\\n",
            "count       5000           5000       5000            5000          4022   \n",
            "unique      5000              4         10               4             4   \n",
            "top      P104999  Adult (36-60)   Oncology     New Patient      Self-pay   \n",
            "freq           1           1294        530            1305          1056   \n",
            "\n",
            "       ArrivalMethod   VisitDate   AppointmentTime ActualArrivalTime  \\\n",
            "count           5000        5000              5000              5000   \n",
            "unique             3          91              2610              4733   \n",
            "top        Scheduled  26-03-2024  20-01-2024 13:00  03-02-2024 16:13   \n",
            "freq            3511          77                 7                 4   \n",
            "\n",
            "             CheckInTime  ... AssignedDepartment FirstSeenByNurseTime  \\\n",
            "count               5000  ...               5000                 5000   \n",
            "unique              4746  ...                 10                 4652   \n",
            "top     10-01-2024 14:42  ...           Oncology              40:32.0   \n",
            "freq                   3  ...                530                    4   \n",
            "\n",
            "       DoctorOrProcedureStartTime BookingType Month DayOfWeek  \\\n",
            "count                        5000        5000  5000      5000   \n",
            "unique                       4651           2     3         7   \n",
            "top                       25:04.9      Online   Mar       Tue   \n",
            "freq                            4        3511  1709       757   \n",
            "\n",
            "       OccupancyRateBin ProvidersOnShiftBin NursesOnShiftBin  \\\n",
            "count              5000                5000             5000   \n",
            "unique                4                   4                4   \n",
            "top              Medium        (1.999, 3.0]     (2.999, 6.0]   \n",
            "freq               1294                1468             1523   \n",
            "\n",
            "       StaffPatientRatioBin  \n",
            "count                  5000  \n",
            "unique                    4  \n",
            "top              (0.3, 0.4]  \n",
            "freq                   1283  \n",
            "\n",
            "[4 rows x 32 columns]\n"
          ]
        }
      ],
      "source": [
        "# Menampilkan statistik deskriptif untuk kolom non-numerik (terutama objek/kategorikal)\n",
        "print(\"\\nStatistik Deskriptif untuk Kolom Kategorikal:\")\n",
        "print(df.describe(include=['object']))"
      ]
    },
    {
      "cell_type": "markdown",
      "metadata": {
        "id": "qPE-fBvZEONU"
      },
      "source": [
        " ## Visualisasi Matriks Korelasi"
      ]
    },
    {
      "cell_type": "code",
      "execution_count": 8,
      "metadata": {
        "colab": {
          "base_uri": "https://localhost:8080/",
          "height": 730
        },
        "id": "v-kzFrMUi2Mk",
        "outputId": "e8fb505e-9dcc-4d3e-f6dd-9363d1ffb8cf"
      },
      "outputs": [
        {
          "output_type": "display_data",
          "data": {
            "text/plain": [
              "<Figure size 1200x800 with 2 Axes>"
            ],
            "image/png": "[encoded data removed]"
          },
          "metadata": {}
        }
      ],
      "source": [
        "# Pastikan kolom 'Duration' ada dan numerik\n",
        "numeric_df = df.select_dtypes(include=np.number) # Pilih hanya kolom numerik\n",
        "\n",
        "plt.figure(figsize=(12, 8))\n",
        "sns.heatmap(numeric_df.corr(), annot=True, cmap='coolwarm', fmt=\".2f\")\n",
        "plt.title('Matriks Korelasi Fitur Numerik')\n",
        "plt.show()"
      ]
    },
    {
      "cell_type": "markdown",
      "metadata": {
        "id": "61cY4bTpDohh"
      },
      "source": [
        " # Data Preprocessing"
      ]
    },
    {
      "cell_type": "markdown",
      "metadata": {
        "id": "yXJk_sGJDrlW"
      },
      "source": [
        " ## Menangani Missing Values"
      ]
    },
    {
      "cell_type": "code",
      "execution_count": 9,
      "metadata": {
        "id": "r9fRjvN9i3wI"
      },
      "outputs": [],
      "source": [
        "# Menampilkan jumlah missing values per kolom\n",
        "df.isnull().sum()\n",
        "\n",
        "# Mengisi missing values pada kolom 'InsuranceType' dan 'TestsOrdered' dengan 'Unknown'\n",
        "df['InsuranceType'] = df['InsuranceType'].fillna('Unknown')\n",
        "df['TestsOrdered'] = df['TestsOrdered'].fillna('Unknown')\n"
      ]
    },
    {
      "cell_type": "code",
      "execution_count": 10,
      "metadata": {
        "colab": {
          "base_uri": "https://localhost:8080/"
        },
        "id": "guL8O8ZFi5RF",
        "outputId": "3716c2bd-e792-4c67-e96b-51d67c0a219c"
      },
      "outputs": [
        {
          "output_type": "stream",
          "name": "stdout",
          "text": [
            "\n",
            "Missing RegistrationTime: 3511 dari 5000 baris\n",
            "Missing RegistrationTime setelah imputasi: 0\n"
          ]
        },
        {
          "output_type": "stream",
          "name": "stderr",
          "text": [
            "<ipython-input-10-568130070>:4: UserWarning: Could not infer format, so each element will be parsed individually, falling back to `dateutil`. To ensure parsing is consistent and as-expected, please specify a format.\n",
            "  df['RegistrationTime'] = pd.to_datetime(df['RegistrationTime'], errors='coerce') # Konversi ke datetime\n"
          ]
        }
      ],
      "source": [
        "# Penanganan missing pada RegistrationTime\n",
        "print(f\"\\nMissing RegistrationTime: {df['RegistrationTime'].isna().sum()} dari {len(df)} baris\")\n",
        "df['RegistrationTime_missing'] = df['RegistrationTime'].isna().astype(int) # Flag missing\n",
        "df['RegistrationTime'] = pd.to_datetime(df['RegistrationTime'], errors='coerce') # Konversi ke datetime\n",
        "min_date = df['RegistrationTime'].min() # Cari tanggal minimum yang valid\n",
        "if pd.isna(min_date):\n",
        "    min_date = pd.to_datetime('2000-01-01') # Fallback jika semua NaT\n",
        "df['RegistrationTime'] = df['RegistrationTime'].fillna(min_date) # Isi missing dengan tanggal minimum\n",
        "print(f\"Missing RegistrationTime setelah imputasi: {df['RegistrationTime'].isna().sum()}\")"
      ]
    },
    {
      "cell_type": "code",
      "execution_count": 11,
      "metadata": {
        "colab": {
          "base_uri": "https://localhost:8080/"
        },
        "id": "Rab6Ht7PHL7z",
        "outputId": "c0c5b3b4-6d1e-47e5-88d4-049503785474"
      },
      "outputs": [
        {
          "output_type": "stream",
          "name": "stdout",
          "text": [
            "Missing 'RegistrationWaitTimeTime' diisi dengan median (5.98).\n",
            "Missing 'RegistrationToCheckInTime' diisi dengan median (-2.99).\n"
          ]
        }
      ],
      "source": [
        "# Imputasi missing pada kolom durasi/waktu lainnya dengan median\n",
        "cols_to_impute_median = ['RegistrationWaitTimeTime', 'RegistrationToCheckInTime'] # Tambahkan kolom lain jika perlu\n",
        "for col in cols_to_impute_median:\n",
        "    if col in df.columns and df[col].isnull().any():\n",
        "        if pd.api.types.is_numeric_dtype(df[col]):\n",
        "            median_val = df[col].median()\n",
        "            df[col] = df[col].fillna(median_val)\n",
        "            print(f\"Missing '{col}' diisi dengan median ({median_val:.2f}).\")\n",
        "        else:\n",
        "            print(f\"WARNING: Kolom '{col}' bukan numerik, tidak bisa diisi median.\")"
      ]
    },
    {
      "cell_type": "markdown",
      "metadata": {
        "id": "xnWdJ15FEY2y"
      },
      "source": [
        "## Konversi Kolom Waktu ke Datetime dan Rekayasa Fitur"
      ]
    },
    {
      "cell_type": "code",
      "execution_count": 12,
      "metadata": {
        "colab": {
          "base_uri": "https://localhost:8080/"
        },
        "id": "AZdWkpJxHcp5",
        "outputId": "6e3585d0-56e7-48af-f137-fdeeb5aefb73"
      },
      "outputs": [
        {
          "output_type": "stream",
          "name": "stdout",
          "text": [
            "\n",
            "Mengkonversi Kolom Waktu ke Datetime & Ekstraksi Fitur...\n",
            "Kolom 'VisitDate' dikonversi ke datetime.\n",
            "Kolom 'AppointmentTime' dikonversi ke datetime.\n",
            "Kolom 'ProviderStartTime' dikonversi ke datetime.\n",
            "Kolom 'ProviderEndTime' dikonversi ke datetime.\n"
          ]
        },
        {
          "output_type": "stream",
          "name": "stderr",
          "text": [
            "<ipython-input-12-1923075119>:11: UserWarning: Parsing dates in %d-%m-%Y format when dayfirst=False (the default) was specified. Pass `dayfirst=True` or specify a format to silence this warning.\n",
            "  df[col] = pd.to_datetime(df[col], errors='coerce')\n",
            "<ipython-input-12-1923075119>:11: UserWarning: Parsing dates in %d-%m-%Y %H:%M format when dayfirst=False (the default) was specified. Pass `dayfirst=True` or specify a format to silence this warning.\n",
            "  df[col] = pd.to_datetime(df[col], errors='coerce')\n",
            "<ipython-input-12-1923075119>:11: UserWarning: Parsing dates in %d-%m-%Y %H:%M format when dayfirst=False (the default) was specified. Pass `dayfirst=True` or specify a format to silence this warning.\n",
            "  df[col] = pd.to_datetime(df[col], errors='coerce')\n",
            "<ipython-input-12-1923075119>:11: UserWarning: Parsing dates in %d-%m-%Y %H:%M format when dayfirst=False (the default) was specified. Pass `dayfirst=True` or specify a format to silence this warning.\n",
            "  df[col] = pd.to_datetime(df[col], errors='coerce')\n",
            "<ipython-input-12-1923075119>:11: UserWarning: Parsing dates in %d-%m-%Y %H:%M format when dayfirst=False (the default) was specified. Pass `dayfirst=True` or specify a format to silence this warning.\n",
            "  df[col] = pd.to_datetime(df[col], errors='coerce')\n"
          ]
        },
        {
          "output_type": "stream",
          "name": "stdout",
          "text": [
            "Kolom 'ActualArrivalTime' dikonversi ke datetime.\n",
            "Kolom 'CheckInTime' dikonversi ke datetime.\n",
            "Kolom 'TriageCompleteTime' dikonversi ke datetime.\n"
          ]
        },
        {
          "output_type": "stream",
          "name": "stderr",
          "text": [
            "<ipython-input-12-1923075119>:11: UserWarning: Parsing dates in %d-%m-%Y %H:%M format when dayfirst=False (the default) was specified. Pass `dayfirst=True` or specify a format to silence this warning.\n",
            "  df[col] = pd.to_datetime(df[col], errors='coerce')\n",
            "<ipython-input-12-1923075119>:11: UserWarning: Parsing dates in %d-%m-%Y %H:%M format when dayfirst=False (the default) was specified. Pass `dayfirst=True` or specify a format to silence this warning.\n",
            "  df[col] = pd.to_datetime(df[col], errors='coerce')\n",
            "<ipython-input-12-1923075119>:11: UserWarning: Parsing dates in %d-%m-%Y %H:%M format when dayfirst=False (the default) was specified. Pass `dayfirst=True` or specify a format to silence this warning.\n",
            "  df[col] = pd.to_datetime(df[col], errors='coerce')\n",
            "<ipython-input-12-1923075119>:11: UserWarning: Parsing dates in %d-%m-%Y %H:%M format when dayfirst=False (the default) was specified. Pass `dayfirst=True` or specify a format to silence this warning.\n",
            "  df[col] = pd.to_datetime(df[col], errors='coerce')\n"
          ]
        },
        {
          "output_type": "stream",
          "name": "stdout",
          "text": [
            "Kolom 'TestsCompleteTime' dikonversi ke datetime.\n",
            "Kolom 'DischargeTime' dikonversi ke datetime.\n"
          ]
        },
        {
          "output_type": "stream",
          "name": "stderr",
          "text": [
            "<ipython-input-12-1923075119>:11: UserWarning: Could not infer format, so each element will be parsed individually, falling back to `dateutil`. To ensure parsing is consistent and as-expected, please specify a format.\n",
            "  df[col] = pd.to_datetime(df[col], errors='coerce')\n"
          ]
        },
        {
          "output_type": "stream",
          "name": "stdout",
          "text": [
            "Kolom 'ArrivalDateTime' dikonversi ke datetime.\n"
          ]
        },
        {
          "output_type": "stream",
          "name": "stderr",
          "text": [
            "<ipython-input-12-1923075119>:11: UserWarning: Could not infer format, so each element will be parsed individually, falling back to `dateutil`. To ensure parsing is consistent and as-expected, please specify a format.\n",
            "  df[col] = pd.to_datetime(df[col], errors='coerce')\n"
          ]
        },
        {
          "output_type": "stream",
          "name": "stdout",
          "text": [
            "Kolom 'FirstSeenByNurseTime' dikonversi ke datetime.\n",
            "Kolom 'DoctorOrProcedureStartTime' dikonversi ke datetime.\n"
          ]
        },
        {
          "output_type": "stream",
          "name": "stderr",
          "text": [
            "<ipython-input-12-1923075119>:11: UserWarning: Could not infer format, so each element will be parsed individually, falling back to `dateutil`. To ensure parsing is consistent and as-expected, please specify a format.\n",
            "  df[col] = pd.to_datetime(df[col], errors='coerce')\n"
          ]
        }
      ],
      "source": [
        "# 2. Konversi Kolom Waktu ke Datetime dan Ekstraksi Fitur Waktu\n",
        "print(\"\\nMengkonversi Kolom Waktu ke Datetime & Ekstraksi Fitur...\")\n",
        "time_cols_all = ['VisitDate', 'AppointmentTime', 'ProviderStartTime', 'ProviderEndTime',\n",
        "                 'ActualArrivalTime', 'CheckInTime', 'TriageCompleteTime', 'TestsCompleteTime',\n",
        "                 'DischargeTime', 'ArrivalDateTime', 'FirstSeenByNurseTime', 'DoctorOrProcedureStartTime',\n",
        "                 'RegistrationTime'] # Tambahkan RegistrationTime yang sudah diimputasi\n",
        "\n",
        "for col in time_cols_all:\n",
        "    if col in df.columns and not pd.api.types.is_datetime64_any_dtype(df[col]):\n",
        "        # Gunakan errors='coerce' untuk mengubah format tidak valid menjadi NaT\n",
        "        df[col] = pd.to_datetime(df[col], errors='coerce')\n",
        "        if pd.api.types.is_datetime64_any_dtype(df[col]):\n",
        "             print(f\"Kolom '{col}' dikonversi ke datetime.\")\n",
        "        else:\n",
        "             print(f\"WARNING: Kolom '{col}' gagal dikonversi ke datetime.\")"
      ]
    },
    {
      "cell_type": "markdown",
      "metadata": {
        "id": "2foR9QFMEdav"
      },
      "source": [
        "## Menghitung Kolom Target ('Duration')"
      ]
    },
    {
      "cell_type": "code",
      "execution_count": 13,
      "metadata": {
        "colab": {
          "base_uri": "https://localhost:8080/"
        },
        "id": "_cWVI8XXHgkB",
        "outputId": "39e4ff4c-836a-4911-feb6-cf3624015142"
      },
      "outputs": [
        {
          "output_type": "stream",
          "name": "stdout",
          "text": [
            "Kolom 'Duration' (Target) dihitung.\n"
          ]
        }
      ],
      "source": [
        "# Hitung durasi yang relevan (dalam menit)\n",
        "# Target: Duration Provider\n",
        "if 'ProviderEndTime' in df.columns and 'ProviderStartTime' in df.columns and \\\n",
        "   pd.api.types.is_datetime64_any_dtype(df['ProviderEndTime']) and \\\n",
        "   pd.api.types.is_datetime64_any_dtype(df['ProviderStartTime']):\n",
        "    df['Duration'] = (df['ProviderEndTime'] - df['ProviderStartTime']).dt.total_seconds() / 60.0\n",
        "    print(\"Kolom 'Duration' (Target) dihitung.\")\n",
        "else:\n",
        "    print(\"WARNING: Tidak dapat menghitung 'Duration'. Pastikan ProviderStartTime & ProviderEndTime ada dan datetime.\")\n",
        "    # Buat kolom 'Duration' dengan NaN jika tidak dapat dihitung, agar script selanjutnya tidak error\n",
        "    df['Duration'] = np.nan\n"
      ]
    },
    {
      "cell_type": "markdown",
      "metadata": {
        "id": "6qExW8AgEgap"
      },
      "source": [
        "## Menghitung Durasi Antar Tahap Lainnya"
      ]
    },
    {
      "cell_type": "code",
      "execution_count": 14,
      "metadata": {
        "colab": {
          "base_uri": "https://localhost:8080/"
        },
        "id": "HSZu-Y5BHlO0",
        "outputId": "1b8d4e94-d41e-4961-d921-2edd040aeb37"
      },
      "outputs": [
        {
          "output_type": "stream",
          "name": "stdout",
          "text": [
            "Fitur 'TimeFromArrivalToNurse' dihitung & diimputasi.\n",
            "Fitur 'TimeFromNurseToDoctor' dihitung & diimputasi.\n"
          ]
        }
      ],
      "source": [
        "# Hitung durasi antar tahap jika timestamp relevan ada\n",
        "if 'ArrivalDateTime' in df.columns and 'FirstSeenByNurseTime' in df.columns and \\\n",
        "   pd.api.types.is_datetime64_any_dtype(df['ArrivalDateTime']) and \\\n",
        "   pd.api.types.is_datetime64_any_dtype(df['FirstSeenByNurseTime']):\n",
        "    df['TimeFromArrivalToNurse'] = (df['FirstSeenByNurseTime'] - df['ArrivalDateTime']).dt.total_seconds() / 60.0\n",
        "    df['TimeFromArrivalToNurse'] = df['TimeFromArrivalToNurse'].fillna(df['TimeFromArrivalToNurse'].median()) # Imputasi NaN\n",
        "    df['TimeFromArrivalToNurse'] = df['TimeFromArrivalToNurse'].clip(lower=0) # Durasi tidak boleh negatif\n",
        "    print(\"Fitur 'TimeFromArrivalToNurse' dihitung & diimputasi.\")\n",
        "else:\n",
        "     df['TimeFromArrivalToNurse'] = np.nan # Buat kolom placeholder\n",
        "     print(\"WARNING: Tidak dapat menghitung 'TimeFromArrivalToNurse'.\")\n",
        "\n",
        "\n",
        "if 'FirstSeenByNurseTime' in df.columns and 'DoctorOrProcedureStartTime' in df.columns and \\\n",
        "   pd.api.types.is_datetime64_any_dtype(df['FirstSeenByNurseTime']) and \\\n",
        "   pd.api.types.is_datetime64_any_dtype(df['DoctorOrProcedureStartTime']):\n",
        "    df['TimeFromNurseToDoctor'] = (df['DoctorOrProcedureStartTime'] - df['FirstSeenByNurseTime']).dt.total_seconds() / 60.0\n",
        "    df['TimeFromNurseToDoctor'] = df['TimeFromNurseToDoctor'].fillna(df['TimeFromNurseToDoctor'].median()) # Imputasi NaN\n",
        "    df['TimeFromNurseToDoctor'] = df['TimeFromNurseToDoctor'].clip(lower=0) # Durasi tidak boleh negatif\n",
        "    print(\"Fitur 'TimeFromNurseToDoctor' dihitung & diimputasi.\")\n",
        "else:\n",
        "     df['TimeFromNurseToDoctor'] = np.nan # Buat kolom placeholder\n",
        "     print(\"WARNING: Tidak dapat menghitung 'TimeFromNurseToDoctor'.\")"
      ]
    },
    {
      "cell_type": "markdown",
      "metadata": {
        "id": "lr1UOMnREkPe"
      },
      "source": [
        " ## Mengekstrak Fitur Dari Tanggal/Waktu Utama"
      ]
    },
    {
      "cell_type": "code",
      "execution_count": 15,
      "metadata": {
        "colab": {
          "base_uri": "https://localhost:8080/"
        },
        "id": "JGVJMoOzHoaX",
        "outputId": "3f1f0a7e-c936-44c3-f374-b7efef9c31bc"
      },
      "outputs": [
        {
          "output_type": "stream",
          "name": "stdout",
          "text": [
            "Fitur 'AppointmentHour' diekstrak.\n",
            "Fitur 'VisitDayOfWeek', 'VisitMonth', 'VisitYear', 'VisitDayOfMonth', 'IsWeekend' diekstrak.\n"
          ]
        }
      ],
      "source": [
        "# Ekstrak fitur dari AppointmentTime atau VisitDate\n",
        "if 'AppointmentTime' in df.columns and pd.api.types.is_datetime64_any_dtype(df['AppointmentTime']):\n",
        "    df['AppointmentHour'] = df['AppointmentTime'].dt.hour\n",
        "    print(\"Fitur 'AppointmentHour' diekstrak.\")\n",
        "else:\n",
        "    df['AppointmentHour'] = np.nan\n",
        "    print(\"WARNING: Tidak dapat mengekstrak 'AppointmentHour'.\")\n",
        "\n",
        "if 'VisitDate' in df.columns and pd.api.types.is_datetime64_any_dtype(df['VisitDate']):\n",
        "    df['VisitDayOfWeek'] = df['VisitDate'].dt.dayofweek # 0=Senin, ..., 6=Minggu\n",
        "    df['VisitMonth'] = df['VisitDate'].dt.month\n",
        "    df['VisitYear'] = df['VisitDate'].dt.year\n",
        "    df['VisitDayOfMonth'] = df['VisitDate'].dt.day\n",
        "    df['IsWeekend'] = (df['VisitDayOfWeek'] >= 5).astype(int)\n",
        "    print(\"Fitur 'VisitDayOfWeek', 'VisitMonth', 'VisitYear', 'VisitDayOfMonth', 'IsWeekend' diekstrak.\")\n",
        "else:\n",
        "    df['VisitDayOfWeek'] = np.nan\n",
        "    df['VisitMonth'] = np.nan\n",
        "    df['VisitYear'] = np.nan\n",
        "    df['VisitDayOfMonth'] = np.nan\n",
        "    df['IsWeekend'] = np.nan\n",
        "    print(\"WARNING: Tidak dapat mengekstrak fitur dari 'VisitDate'.\")"
      ]
    },
    {
      "cell_type": "markdown",
      "metadata": {
        "id": "0kWiz1l8En2u"
      },
      "source": [
        " ## Penanganan Kolom Kategorikal"
      ]
    },
    {
      "cell_type": "code",
      "execution_count": 16,
      "metadata": {
        "colab": {
          "base_uri": "https://localhost:8080/"
        },
        "id": "V7FNJ-e3Ht5L",
        "outputId": "0f819d03-16c5-420a-fc5e-9a112602a615"
      },
      "outputs": [
        {
          "output_type": "stream",
          "name": "stdout",
          "text": [
            "\n",
            "Menangani Kolom Kategorikal & Binned yang Tersisa...\n",
            "Kolom non-numerik setelah ekstraksi fitur waktu: ['PatientID', 'AgeGroup', 'Department', 'AppointmentType', 'InsuranceType', 'ArrivalMethod', 'TriageCategory', 'ReasonForVisit', 'TestsOrdered', 'ProviderID', 'RoomNumber', 'AssignedDepartment', 'BookingType', 'Month', 'DayOfWeek', 'OccupancyRateBin', 'ProvidersOnShiftBin', 'NursesOnShiftBin', 'StaffPatientRatioBin']\n",
            "Analisis kolom 'PatientID': 5000 nilai unik.\n",
            "WARNING: Kolom 'PatientID' memiliki banyak nilai unik (5000), akan dihapus.\n",
            "Analisis kolom 'AgeGroup': 4 nilai unik.\n",
            "Analisis kolom 'Department': 10 nilai unik.\n",
            "Analisis kolom 'AppointmentType': 4 nilai unik.\n",
            "Analisis kolom 'InsuranceType': 5 nilai unik.\n",
            "Analisis kolom 'ArrivalMethod': 3 nilai unik.\n",
            "Analisis kolom 'TriageCategory': 5 nilai unik.\n",
            "Analisis kolom 'ReasonForVisit': 10 nilai unik.\n",
            "Analisis kolom 'TestsOrdered': 11 nilai unik.\n",
            "Analisis kolom 'ProviderID': 50 nilai unik.\n",
            "Analisis kolom 'RoomNumber': 60 nilai unik.\n",
            "Analisis kolom 'AssignedDepartment': 10 nilai unik.\n",
            "Analisis kolom 'BookingType': 2 nilai unik.\n",
            "Analisis kolom 'Month': 3 nilai unik.\n",
            "Analisis kolom 'DayOfWeek': 7 nilai unik.\n",
            "Analisis kolom 'OccupancyRateBin': 4 nilai unik.\n",
            "Analisis kolom 'ProvidersOnShiftBin': 4 nilai unik.\n",
            "Analisis kolom 'NursesOnShiftBin': 4 nilai unik.\n",
            "Analisis kolom 'StaffPatientRatioBin': 4 nilai unik.\n"
          ]
        }
      ],
      "source": [
        "# 3. Penanganan Kolom Kategorikal yang Masih Object dan Kolom Binned\n",
        "print(\"\\nMenangani Kolom Kategorikal & Binned yang Tersisa...\")\n",
        "non_numeric_cols_after_time_features = df.select_dtypes(include=['object']).columns.tolist()\n",
        "print(\"Kolom non-numerik setelah ekstraksi fitur waktu:\", non_numeric_cols_after_time_features)\n",
        "\n",
        "cols_to_onehot = []\n",
        "cols_to_drop_unhandled_object = []\n",
        "\n",
        "for col in non_numeric_cols_after_time_features:\n",
        "    print(f\"Analisis kolom '{col}': {df[col].nunique()} nilai unik.\")\n",
        "    # Cek jumlah nilai unik untuk memutuskan One-Hot Encode atau Hapus\n",
        "    if df[col].nunique() < 100: # Batas arbitrari, sesuaikan\n",
        "        cols_to_onehot.append(col)\n",
        "        # Isi NaN di kolom kategorikal dengan 'Unknown' sebelum One-Hot Encoding\n",
        "        if df[col].isnull().any():\n",
        "            df[col] = df[col].fillna('Unknown')\n",
        "            print(f\"Mengisi NaN di '{col}' dengan 'Unknown' sebelum One-Hot Encoding.\")\n",
        "    else:\n",
        "        print(f\"WARNING: Kolom '{col}' memiliki banyak nilai unik ({df[col].nunique()}), akan dihapus.\")\n",
        "        cols_to_drop_unhandled_object.append(col) # Hapus jika terlalu banyak unik (misal ProviderID, RoomNumber jika banyak)"
      ]
    },
    {
      "cell_type": "code",
      "execution_count": 17,
      "metadata": {
        "colab": {
          "base_uri": "https://localhost:8080/"
        },
        "id": "CIN3JET4HxbN",
        "outputId": "24a6c2ba-1da8-4ee5-e3b6-650f7ccfb1c5"
      },
      "outputs": [
        {
          "output_type": "stream",
          "name": "stdout",
          "text": [
            "\n",
            "Melakukan One-Hot Encoding pada kolom: ['AgeGroup', 'Department', 'AppointmentType', 'InsuranceType', 'ArrivalMethod', 'TriageCategory', 'ReasonForVisit', 'TestsOrdered', 'ProviderID', 'RoomNumber', 'AssignedDepartment', 'BookingType', 'Month', 'DayOfWeek', 'OccupancyRateBin', 'ProvidersOnShiftBin', 'NursesOnShiftBin', 'StaffPatientRatioBin']\n",
            "Shape setelah One-Hot Encoding lanjutan: (5000, 230)\n"
          ]
        }
      ],
      "source": [
        "# Lakukan One-Hot Encoding untuk kolom yang dipilih\n",
        "if cols_to_onehot:\n",
        "    print(f\"\\nMelakukan One-Hot Encoding pada kolom: {cols_to_onehot}\")\n",
        "    # dummy_na=False karena NaN sudah diisi 'Unknown'\n",
        "    df = pd.get_dummies(df, columns=cols_to_onehot, drop_first=True, dummy_na=False)\n",
        "    print(\"Shape setelah One-Hot Encoding lanjutan:\", df.shape)\n",
        "else:\n",
        "    print(\"\\nTidak ada kolom tambahan yang di-One-Hot Encode di langkah ini.\")"
      ]
    },
    {
      "cell_type": "markdown",
      "metadata": {
        "id": "XTwtNc7_EtFg"
      },
      "source": [
        "## Pemilihan Fitur (X) dan Target (y)"
      ]
    },
    {
      "cell_type": "code",
      "execution_count": 18,
      "metadata": {
        "id": "ZSoIG3X_H6dM"
      },
      "outputs": [],
      "source": [
        "cols_to_drop_final = ['PatientID', # ID\n",
        "                      'Duration', # Kolom Target (akan diambil terpisah)\n",
        "                      # Kolom waktu/tanggal asli (setelah ekstraksi fitur)\n",
        "                      'VisitDate', 'AppointmentTime', 'ProviderStartTime', 'ProviderEndTime',\n",
        "                      'ActualArrivalTime', 'CheckInTime', 'TriageCompleteTime',\n",
        "                      'TestsCompleteTime', 'DischargeTime', 'ArrivalDateTime',\n",
        "                      'FirstSeenByNurseTime', 'DoctorOrProcedureStartTime', 'RegistrationTime',\n",
        "                      # Kolom kategorikal asli (setelah di-one-hot encode)\n",
        "                      'InsuranceType', 'ArrivalMethod', 'TriageCategory', 'ReasonForVisit', 'TestsOrdered',\n",
        "                      # Kolom non-numerik yang dihapus karena banyak unik\n",
        "                      ]"
      ]
    },
    {
      "cell_type": "code",
      "execution_count": 19,
      "metadata": {
        "colab": {
          "base_uri": "https://localhost:8080/"
        },
        "id": "3LYCWYH1H82X",
        "outputId": "81c1125c-773f-4500-da9c-b43964172c82"
      },
      "outputs": [
        {
          "output_type": "stream",
          "name": "stdout",
          "text": [
            "Kolom yang akan dihapus sebelum membuat X: ['FirstSeenByNurseTime', 'CheckInTime', 'RegistrationTime', 'ProviderEndTime', 'Duration', 'ArrivalDateTime', 'ProviderStartTime', 'DischargeTime', 'TriageCompleteTime', 'VisitDate', 'ActualArrivalTime', 'AppointmentTime', 'PatientID', 'TestsCompleteTime', 'DoctorOrProcedureStartTime']\n"
          ]
        }
      ],
      "source": [
        "# Tambahkan kolom yang diputuskan untuk dihapus dari langkah penanganan non-numerik\n",
        "cols_to_drop_final.extend(cols_to_drop_unhandled_object)\n",
        "\n",
        "# Pastikan tidak ada duplikasi dan hapus kolom yang tidak ada\n",
        "cols_to_drop_final = [col for col in list(set(cols_to_drop_final)) if col in df.columns]\n",
        "\n",
        "print(f\"Kolom yang akan dihapus sebelum membuat X: {cols_to_drop_final}\")"
      ]
    },
    {
      "cell_type": "code",
      "execution_count": 20,
      "metadata": {
        "id": "pXuVv1_-IBKt"
      },
      "outputs": [],
      "source": [
        "# Pisahkan fitur (X) dan target (y)\n",
        "y = df['Duration'] # Ambil kolom target terlebih dahulu\n",
        "X = df.drop(columns=cols_to_drop_final, errors='ignore') # Hapus kolom-kolom yang tidak diinginkan dari DataFrame"
      ]
    },
    {
      "cell_type": "markdown",
      "metadata": {
        "id": "HJOq2ebKEx0x"
      },
      "source": [
        "## Final Check Tipe Data dan Imputasi di X"
      ]
    },
    {
      "cell_type": "code",
      "execution_count": 21,
      "metadata": {
        "id": "tqutsgBAIGTV"
      },
      "outputs": [],
      "source": [
        "# Pastikan X hanya berisi tipe data numerik/boolean yang sesuai untuk model\n",
        "# get_dummies menghasilkan uint8, yang merupakan subtype int.\n",
        "X = X.select_dtypes(include=np.number) # Termasuk int, float, uint8, dll. Jika ada boolean, tambahkan 'bool'"
      ]
    },
    {
      "cell_type": "code",
      "execution_count": 22,
      "metadata": {
        "colab": {
          "base_uri": "https://localhost:8080/"
        },
        "id": "ryRVlZlzIJRn",
        "outputId": "e5663402-638c-40a5-9420-6a36b209ba64"
      },
      "outputs": [
        {
          "output_type": "stream",
          "name": "stdout",
          "text": [
            "Semua kolom di X final adalah numerik.\n"
          ]
        }
      ],
      "source": [
        "# Cek apakah masih ada kolom non-numerik yang terlewat\n",
        "non_numeric_cols_final_check = X.select_dtypes(exclude=np.number).columns # Cek yang *bukan* numerik\n",
        "if len(non_numeric_cols_final_check) > 0:\n",
        "    print(f\"\\nWARNING: Masih ada kolom non-numerik di X final: {non_numeric_cols_final_check.tolist()}\")\n",
        "else:\n",
        "    print(\"Semua kolom di X final adalah numerik.\")"
      ]
    },
    {
      "cell_type": "code",
      "execution_count": 23,
      "metadata": {
        "colab": {
          "base_uri": "https://localhost:8080/"
        },
        "id": "UC8IlHCsINCz",
        "outputId": "17cfda36-f9cf-4ac6-d71b-d9601cb31692"
      },
      "outputs": [
        {
          "output_type": "stream",
          "name": "stdout",
          "text": [
            "\n",
            "Tidak ada NaN di X sebelum scaling.\n",
            "\n",
            "--- Tidak ada NaN di X, median_values_for_imputation di kode Flask Anda bisa menjadi dictionary kosong atau hanya untuk kolom yang mungkin missing di input API. ---\n",
            "Untuk aman, pertimbangkan menyimpan median dari X_train setelah split jika Anda mengisi NaN setelah split.\n"
          ]
        }
      ],
      "source": [
        "# Cek NaN lagi di X sebelum scaling\n",
        "if X.isnull().sum().sum() > 0:\n",
        "    print(\"\\nMengisi NaN yang tersisa di X dengan median sebelum scaling...\")\n",
        "    # Hitung median dari X sebelum di split (menggunakan seluruh data untuk robustness)\n",
        "    X_medians_for_imputation_unscaled = X.median()\n",
        "    X = X.fillna(X_medians_for_imputation_unscaled)\n",
        "    print(\"Jumlah NaN di X setelah imputasi final:\", X.isnull().sum().sum())\n",
        "\n",
        "    # Simpan median dari X (unscaled) untuk imputasi di API\n",
        "    # Menggunakan median dari X keseluruhan sebelum split\n",
        "    import json\n",
        "    print(\"\\n--- Salin dictionary median unscaled berikut untuk median_values_for_imputation di kode Flask Anda: ---\")\n",
        "    # Hanya simpan median untuk kolom yang *memang* numerik di X final\n",
        "    print(json.dumps(X_medians_for_imputation_unscaled[X_medians_for_imputation_unscaled.notna()].to_dict(), indent=4))\n",
        "\n",
        "else:\n",
        "     print(\"\\nTidak ada NaN di X sebelum scaling.\")\n",
        "     X_medians_for_imputation_unscaled = {} # Dictionary kosong jika tidak ada NaN\n",
        "     import json\n",
        "     print(\"\\n--- Tidak ada NaN di X, median_values_for_imputation di kode Flask Anda bisa menjadi dictionary kosong atau hanya untuk kolom yang mungkin missing di input API. ---\")\n",
        "     print(\"Untuk aman, pertimbangkan menyimpan median dari X_train setelah split jika Anda mengisi NaN setelah split.\")\n",
        "     # Atau, simpan median dari X_train setelah split jika Anda memindahkan imputasi ke setelah split\n",
        "     # X_train_medians_unscaled = X_train.median().to_dict() # Ini jika imputasi NaN di X_train\n",
        "\n",
        "# Cek NaN di target (y) - baris dengan NaN di target harus dihapus jika tidak bisa diimputasi\n",
        "if y.isnull().any():\n",
        "    print(f\"\\nWARNING: Missing values ditemukan di kolom target 'Duration'. Jumlah: {y.isnull().sum()}\")\n",
        "    # Hapus baris dengan NaN di target\n",
        "    initial_rows = X.shape[0]\n",
        "    valid_indices = y.dropna().index\n",
        "    X = X.loc[valid_indices]\n",
        "    y = y.loc[valid_indices]\n",
        "    print(f\"Menghapus {initial_rows - X.shape[0]} baris dengan NaN di target.\")\n",
        "    print(f\"Shape X dan y setelah menghapus baris dengan NaN di target: {X.shape}, {y.shape}\")"
      ]
    },
    {
      "cell_type": "markdown",
      "metadata": {
        "id": "rZpTvb-SE8iu"
      },
      "source": [
        " ## Analisis Kategori Fitur (Known vs Not Known at Start)"
      ]
    },
    {
      "cell_type": "code",
      "execution_count": 24,
      "metadata": {
        "colab": {
          "base_uri": "https://localhost:8080/"
        },
        "id": "zHDryPxr6wyu",
        "outputId": "591d0950-8406-431d-f8b0-f14b8a64cfbb"
      },
      "outputs": [
        {
          "output_type": "stream",
          "name": "stdout",
          "text": [
            "Shape X setelah final check dan imputasi: (5000, 32)\n",
            "Jumlah NaN di X setelah imputasi final: 0\n",
            "Shape y setelah menghapus NaN target: (5000,)\n",
            "Jumlah NaN di y setelah menghapus NaN target: 0\n",
            "\n",
            "--- Analisis Kategori Fitur ---\n",
            "\n",
            "✅ Fitur Diketahui di Awal (Potensi Input API):\n",
            "['FacilityOccupancyRate', 'ProvidersOnShift', 'NursesOnShift', 'StaffToPatientRatio', 'IsRegistered', 'IsOnlineBooking', 'Year', 'Day', 'IsWeekend', 'Quarter', 'ArrivalHour', 'ArrivalDayOfWeek', 'ArrivalMonth', 'AppointmentHour', 'VisitDayOfWeek', 'VisitMonth', 'VisitYear', 'VisitDayOfMonth']\n",
            "\n",
            "⚠️ Fitur Tidak Diketahui di Awal (Kemungkinan Perlu Imputasi Median di API):\n",
            "['ArrivalDelayTime', 'RegistrationWaitTimeTime', 'RegistrationToCheckInTime', 'CheckInToNurseTime', 'NurseToTriageCompleteTime', 'TriageToProviderStartTime', 'ConsultationDurationTime', 'ProviderEndToTestsCompleteTime', 'TestsToDischargeTime', 'TotalTimeInHospital', 'TotalDelayTime', 'RegistrationTime_missing', 'TimeFromArrivalToNurse', 'TimeFromNurseToDoctor']\n",
            "\n",
            "--- Daftar Fitur Final Lengkap (untuk Model):\n",
            "['FacilityOccupancyRate', 'ProvidersOnShift', 'NursesOnShift', 'StaffToPatientRatio', 'IsRegistered', 'IsOnlineBooking', 'Year', 'Day', 'IsWeekend', 'Quarter', 'ArrivalDelayTime', 'RegistrationWaitTimeTime', 'RegistrationToCheckInTime', 'CheckInToNurseTime', 'NurseToTriageCompleteTime', 'TriageToProviderStartTime', 'ConsultationDurationTime', 'ProviderEndToTestsCompleteTime', 'TestsToDischargeTime', 'TotalTimeInHospital', 'TotalDelayTime', 'ArrivalHour', 'ArrivalDayOfWeek', 'ArrivalMonth', 'RegistrationTime_missing', 'TimeFromArrivalToNurse', 'TimeFromNurseToDoctor', 'AppointmentHour', 'VisitDayOfWeek', 'VisitMonth', 'VisitYear', 'VisitDayOfMonth']\n",
            "\n",
            "Daftar fitur input model disimpan sebagai 'feature_names.json'.\n",
            "Daftar fitur Known/Not Known juga disimpan ke file JSON.\n"
          ]
        }
      ],
      "source": [
        "print(f\"Shape X setelah final check dan imputasi: {X.shape}\")\n",
        "print(f\"Jumlah NaN di X setelah imputasi final: {X.isnull().sum().sum()}\")\n",
        "print(f\"Shape y setelah menghapus NaN target: {y.shape}\")\n",
        "print(f\"Jumlah NaN di y setelah menghapus NaN target: {y.isnull().sum().sum()}\")\n",
        "\n",
        "\n",
        "# --- Implementasi Pemisahan Fitur Berdasarkan Nama ---\n",
        "# Ambil semua kolom fitur dari DataFrame X yang sudah final\n",
        "all_feature_cols = X.columns.tolist()\n",
        "\n",
        "# Kolom-kolom yang mengindikasikan hasil dari proses atau sulit didapat di awal\n",
        "# Gunakan keyword yang relevan.\n",
        "# Kolom durasi yang Anda sebutkan masuk ke sini.\n",
        "# RegistrationTime_missing juga cenderung bukan input awal, meskipun bukan durasi.\n",
        "post_process_keywords = ['Time', 'Delay', 'Duration', '_missing'] # Tambahkan _missing\n",
        "\n",
        "# Filter berdasarkan keyword tersebut\n",
        "# Juga sertakan kolom yang secara spesifik Anda tahu sulit diinput di awal\n",
        "not_known_at_start_candidates = [col for col in all_feature_cols if any(keyword.lower() in col.lower() for keyword in post_process_keywords)]\n",
        "\n",
        "# Tambahkan kolom lain yang Anda tahu sulit diinput tapi mungkin tidak kena keyword\n",
        "# Contoh: Jika ada 'ConsultationNotes_Length' yang dihitung, mungkin sulit diinput\n",
        "# manually_add_to_not_known = ['ConsultationNotes_Length']\n",
        "# not_known_at_start_candidates.extend(manually_add_to_not_known)\n",
        "# not_known_at_start_candidates = list(set(not_known_at_start_candidates)) # Hapus duplikat jika ada\n",
        "\n",
        "# Sisanya dianggap bisa diketahui di awal (input API)\n",
        "known_at_start = [col for col in all_feature_cols if col not in not_known_at_start_candidates]\n",
        "\n",
        "# Periksa apakah semua fitur yang Diciptakan dari tanggal/waktu (AppointmentHour, VisitDayOfWeek, dll.)\n",
        "# masuk ke 'known_at_start'. Ini karena Anda BISA menghitungnya dari input tanggal/waktu awal.\n",
        "# Jika mereka tidak di known_at_start, pindahkan mereka.\n",
        "# Daftar ini harus sesuai dengan fitur yang Anda ekstrak\n",
        "time_based_features = ['AppointmentHour', 'VisitDayOfWeek', 'VisitMonth',\n",
        "                       'VisitYear', 'VisitDayOfMonth', 'IsWeekend']\n",
        "\n",
        "for feature in time_based_features:\n",
        "    if feature in not_known_at_start_candidates:\n",
        "        not_known_at_start_candidates.remove(feature)\n",
        "        if feature not in known_at_start: # Pastikan tidak menambah duplikat\n",
        "             known_at_start.append(feature)\n",
        "\n",
        "\n",
        "# Daftar final fitur yang tidak diketahui di awal\n",
        "# Saring lagi agar hanya fitur yang benar-benar ada di all_feature_cols\n",
        "not_known_at_start = [col for col in not_known_at_start_candidates if col in all_feature_cols]\n",
        "\n",
        "print(\"\\n--- Analisis Kategori Fitur ---\")\n",
        "print(\"\\n✅ Fitur Diketahui di Awal (Potensi Input API):\")\n",
        "print(known_at_start)\n",
        "\n",
        "print(\"\\n⚠️ Fitur Tidak Diketahui di Awal (Kemungkinan Perlu Imputasi Median di API):\")\n",
        "print(not_known_at_start)\n",
        "\n",
        "print(\"\\n--- Daftar Fitur Final Lengkap (untuk Model):\")\n",
        "print(all_feature_cols) # Ini sama dengan X.columns.tolist()\n",
        "\n",
        "\n",
        "# --- Simpan Daftar Fitur Final ke File JSON (Ini PENTING UNTUK API/TF.js) ---\n",
        "# Gunakan daftar LENGKAP yang digunakan model (all_feature_cols)\n",
        "feature_names_filename = 'feature_names.json'\n",
        "with open(feature_names_filename, 'w') as f:\n",
        "    json.dump(all_feature_cols, f, indent=4)\n",
        "print(f\"\\nDaftar fitur input model disimpan sebagai '{feature_names_filename}'.\")\n",
        "\n",
        "# Anda bisa juga menyimpan daftar known_at_start dan not_known_at_start ke JSON\n",
        "# untuk dokumentasi tambahan bagi tim implementasi\n",
        "with open('known_at_start_features.json', 'w') as f:\n",
        "    json.dump(known_at_start, f, indent=4)\n",
        "with open('not_known_at_start_features.json', 'w') as f:\n",
        "    json.dump(not_known_at_start, f, indent=4)\n",
        "print(\"Daftar fitur Known/Not Known juga disimpan ke file JSON.\")\n",
        "\n",
        "\n",
        "# --- Lanjutkan ke Train-Test Split, Scaling, Model Training, Saving, Konversi ---\n",
        "# ... (kode yang sudah ada untuk split, scaling, membuat/melatih/menyimpan model, konversi TF.js) ...\n",
        "\n",
        "# Pastikan bagian menyimpan scaler_params.json, median_values_for_imputation.json,\n",
        "# dan ohe_mapping.json menggunakan daftar LENGKAP final_feature_columns (atau all_feature_cols)\n",
        "# seperti yang sudah Anda lakukan."
      ]
    },
    {
      "cell_type": "markdown",
      "metadata": {
        "id": "6y-KydkXFDmA"
      },
      "source": [
        " ## Train-Test Split dan Scaling"
      ]
    },
    {
      "cell_type": "code",
      "execution_count": 25,
      "metadata": {
        "colab": {
          "base_uri": "https://localhost:8080/"
        },
        "id": "lznf0SGfIPmW",
        "outputId": "660a77a0-664b-48e2-be17-f1f636555aee"
      },
      "outputs": [
        {
          "output_type": "stream",
          "name": "stdout",
          "text": [
            "\n",
            "Melakukan Train-Test Split dan Scaling...\n",
            "Shape X_train: (4000, 32)\n",
            "Shape X_test: (1000, 32)\n",
            "Shape y_train: (4000,)\n",
            "Shape y_test: (1000,)\n"
          ]
        }
      ],
      "source": [
        "# 6. Train-Test Split dan Scaling\n",
        "print(\"\\nMelakukan Train-Test Split dan Scaling...\")\n",
        "X_train, X_test, y_train, y_test = train_test_split(X, y, test_size=0.2, random_state=42)\n",
        "\n",
        "print(f\"Shape X_train: {X_train.shape}\")\n",
        "print(f\"Shape X_test: {X_test.shape}\")\n",
        "print(f\"Shape y_train: {y_train.shape}\")\n",
        "print(f\"Shape y_test: {y_test.shape}\")\n"
      ]
    },
    {
      "cell_type": "code",
      "execution_count": 26,
      "metadata": {
        "colab": {
          "base_uri": "https://localhost:8080/"
        },
        "id": "LLBHgNZGCcrB",
        "outputId": "a0b5e6f7-319f-4256-b1e9-3f852150fa75"
      },
      "outputs": [
        {
          "output_type": "stream",
          "name": "stdout",
          "text": [
            "\n",
            "Menghitung dan menyimpan median values untuk imputasi...\n",
            "Dictionary median values (dari X_train) berhasil disimpan ke 'median_values_for_imputation.json'.\n"
          ]
        }
      ],
      "source": [
        "# %%\n",
        "# Asumsikan sel Train-Test Split sudah dijalankan dan X_train serta y_train sudah tersedia.\n",
        "\n",
        "print(\"\\nMenghitung dan menyimpan median values untuk imputasi...\")\n",
        "\n",
        "# Hitung median untuk setiap kolom di X_train (Data Training Unscaled)\n",
        "# Ini adalah nilai yang paling tepat untuk digunakan sebagai default\n",
        "X_train_medians_unscaled = X_train.median()\n",
        "\n",
        "# Simpan dictionary median values JSON\n",
        "median_values_filename = 'median_values_for_imputation.json'\n",
        "with open(median_values_filename, 'w') as f:\n",
        "    # json.dump tidak bisa langsung menangani NaN dari Series Pandas,\n",
        "    # jadi kita ubah ke dictionary Python biasa dan filter NaN (jika ada)\n",
        "    # Pastikan juga nilainya dalam format float standar Python\n",
        "    median_values_filtered = {k: float(v) for k, v in X_train_medians_unscaled.items() if pd.notna(v)}\n",
        "    json.dump(median_values_filtered, f, indent=4) # indent=4 untuk readability\n",
        "\n",
        "print(f\"Dictionary median values (dari X_train) berhasil disimpan ke '{median_values_filename}'.\")\n",
        "\n",
        "# Anda bisa juga mencetak isinya untuk verifikasi\n",
        "# import json\n",
        "# print(\"\\nIsi file median_values_for_imputation.json:\")\n",
        "# with open(median_values_filename, 'r') as f:\n",
        "#     print(json.dumps(json.load(f), indent=4))\n",
        "\n",
        "# %%"
      ]
    },
    {
      "cell_type": "code",
      "execution_count": 27,
      "metadata": {
        "colab": {
          "base_uri": "https://localhost:8080/"
        },
        "id": "FGjAabh2Nmqd",
        "outputId": "46bf4592-e683-480d-9b36-5ee282f73008"
      },
      "outputs": [
        {
          "output_type": "stream",
          "name": "stdout",
          "text": [
            "Median untuk setiap kolom di X_train (unscaled):\n",
            "FacilityOccupancyRate                0.630000\n",
            "ProvidersOnShift                     5.000000\n",
            "NursesOnShift                        9.000000\n",
            "StaffToPatientRatio                  0.300000\n",
            "IsRegistered                         0.000000\n",
            "IsOnlineBooking                      1.000000\n",
            "Year                              2024.000000\n",
            "Day                                 16.000000\n",
            "IsWeekend                            0.000000\n",
            "Quarter                              1.000000\n",
            "ArrivalDelayTime                   -10.025000\n",
            "RegistrationWaitTimeTime             5.982511\n",
            "RegistrationToCheckInTime           -2.986007\n",
            "CheckInToNurseTime                   3.069672\n",
            "NurseToTriageCompleteTime            3.949070\n",
            "TriageToProviderStartTime           38.200000\n",
            "ConsultationDurationTime            17.958333\n",
            "ProviderEndToTestsCompleteTime      33.325000\n",
            "TestsToDischargeTime                22.166667\n",
            "TotalTimeInHospital                156.933333\n",
            "TotalDelayTime                     144.858333\n",
            "ArrivalHour                         12.000000\n",
            "ArrivalDayOfWeek                     3.000000\n",
            "ArrivalMonth                         2.000000\n",
            "RegistrationTime_missing             1.000000\n",
            "TimeFromArrivalToNurse             319.400000\n",
            "TimeFromNurseToDoctor              216.350000\n",
            "AppointmentHour                     12.000000\n",
            "VisitDayOfWeek                       3.000000\n",
            "VisitMonth                           2.000000\n",
            "VisitYear                         2024.000000\n",
            "VisitDayOfMonth                     16.000000\n",
            "dtype: float64\n",
            "\n",
            "Dimuat: known_at_start_features.json (18 fitur)\n",
            "\n",
            "--- Dictionary median unscaled (hanya known_at_start) untuk kode Flask/API: ---\n",
            "{\n",
            "    \"FacilityOccupancyRate\": 0.63,\n",
            "    \"ProvidersOnShift\": 5.0,\n",
            "    \"NursesOnShift\": 9.0,\n",
            "    \"StaffToPatientRatio\": 0.3,\n",
            "    \"IsRegistered\": 0.0,\n",
            "    \"IsOnlineBooking\": 1.0,\n",
            "    \"Year\": 2024.0,\n",
            "    \"Day\": 16.0,\n",
            "    \"IsWeekend\": 0.0,\n",
            "    \"Quarter\": 1.0,\n",
            "    \"ArrivalHour\": 12.0,\n",
            "    \"ArrivalDayOfWeek\": 3.0,\n",
            "    \"ArrivalMonth\": 2.0,\n",
            "    \"AppointmentHour\": 12.0,\n",
            "    \"VisitDayOfWeek\": 3.0,\n",
            "    \"VisitMonth\": 2.0,\n",
            "    \"VisitYear\": 2024.0,\n",
            "    \"VisitDayOfMonth\": 16.0\n",
            "}\n",
            "\n",
            "--- Dictionary median unscaled (hanya not_known_at_start) untuk kode Flask/API: ---\n",
            "{\n",
            "    \"ArrivalDelayTime\": -10.025,\n",
            "    \"RegistrationWaitTimeTime\": 5.982510967,\n",
            "    \"RegistrationToCheckInTime\": -2.9860069,\n",
            "    \"CheckInToNurseTime\": 3.0696716915,\n",
            "    \"NurseToTriageCompleteTime\": 3.949069575,\n",
            "    \"TriageToProviderStartTime\": 38.2,\n",
            "    \"ConsultationDurationTime\": 17.958333335,\n",
            "    \"ProviderEndToTestsCompleteTime\": 33.325,\n",
            "    \"TestsToDischargeTime\": 22.166666665,\n",
            "    \"TotalTimeInHospital\": 156.93333335,\n",
            "    \"TotalDelayTime\": 144.8583333,\n",
            "    \"RegistrationTime_missing\": 1.0,\n",
            "    \"TimeFromArrivalToNurse\": 319.4,\n",
            "    \"TimeFromNurseToDoctor\": 216.35\n",
            "}\n"
          ]
        }
      ],
      "source": [
        "# %%\n",
        "# Asumsikan sel-sel sebelumnya sudah dijalankan dan Anda memiliki DataFrame X_train\n",
        "# Asumsikan sel yang membuat dan menyimpan 'known_at_start_features.json' sudah dijalankan\n",
        "\n",
        "# Hitung median untuk setiap kolom di X_train (Ini sudah ada)\n",
        "X_train_medians_unscaled = X_train.median()\n",
        "\n",
        "# Tampilkan hasilnya dalam bentuk Series Pandas (Ini sudah ada)\n",
        "print(\"Median untuk setiap kolom di X_train (unscaled):\")\n",
        "print(X_train_medians_unscaled)\n",
        "\n",
        "# --- Muat daftar known_at_start dari file JSON ---\n",
        "import json\n",
        "try:\n",
        "    with open(\"known_at_start_features.json\", \"r\") as f:\n",
        "        known_at_start_features = json.load(f)\n",
        "    print(f\"\\nDimuat: known_at_start_features.json ({len(known_at_start_features)} fitur)\")\n",
        "except FileNotFoundError:\n",
        "    print(\"\\nERROR: File 'known_at_start_features.json' tidak ditemukan. Pastikan sel pemisahan fitur sudah dijalankan.\")\n",
        "    known_at_start_features = [] # Set ke list kosong agar kode tidak error\n",
        "\n",
        "# --- Filter median values hanya untuk fitur di known_at_start ---\n",
        "# Gunakan .loc[] untuk memilih baris (fitur) berdasarkan daftar nama\n",
        "# Pastikan hanya mengambil fitur yang ada di X_train_medians_unscaled\n",
        "filtered_medians = X_train_medians_unscaled.loc[\n",
        "    X_train_medians_unscaled.index.intersection(known_at_start_features)\n",
        "]\n",
        "\n",
        "\n",
        "# --- Cetak median dalam format dictionary/JSON hanya untuk fitur known_at_start ---\n",
        "print(\"\\n--- Dictionary median unscaled (hanya known_at_start) untuk kode Flask/API: ---\")\n",
        "# Filter NaN jika ada (seharusnya tidak ada jika dihitung dari X_train yang sudah diimputasi jika perlu)\n",
        "print(json.dumps(filtered_medians[filtered_medians.notna()].to_dict(), indent=4))\n",
        "\n",
        "# Opsional: Cetak juga untuk not_known_at_start jika diinginkan\n",
        "try:\n",
        "    with open(\"not_known_at_start_features.json\", \"r\") as f:\n",
        "        not_known_at_start_features = json.load(f)\n",
        "\n",
        "    filtered_medians_not_known = X_train_medians_unscaled.loc[\n",
        "        X_train_medians_unscaled.index.intersection(not_known_at_start_features)\n",
        "    ]\n",
        "    print(\"\\n--- Dictionary median unscaled (hanya not_known_at_start) untuk kode Flask/API: ---\")\n",
        "    print(json.dumps(filtered_medians_not_known[filtered_medians_not_known.notna()].to_dict(), indent=4))\n",
        "\n",
        "except FileNotFoundError:\n",
        "    print(\"File 'not_known_at_start_features.json' tidak ditemukan.\")\n",
        "\n",
        "\n",
        "# %%"
      ]
    },
    {
      "cell_type": "code",
      "execution_count": 28,
      "metadata": {
        "colab": {
          "base_uri": "https://localhost:8080/"
        },
        "id": "w9M83OPnISHz",
        "outputId": "4ed575ac-1d16-4acb-ce2b-fc9f6ff4dbf1"
      },
      "outputs": [
        {
          "output_type": "stream",
          "name": "stdout",
          "text": [
            "Data fitur berhasil diskalakan.\n",
            "Scaler disimpan sebagai 'scaler.pkl'.\n"
          ]
        }
      ],
      "source": [
        "import joblib\n",
        "scaler = StandardScaler()\n",
        "X_train_scaled = scaler.fit_transform(X_train)\n",
        "X_test_scaled = scaler.transform(X_test)\n",
        "\n",
        "print(\"Data fitur berhasil diskalakan.\")\n",
        "\n",
        "# Simpan scaler (Penting untuk API)\n",
        "joblib.dump(scaler, 'scaler.pkl')\n",
        "print(\"Scaler disimpan sebagai 'scaler.pkl'.\")"
      ]
    },
    {
      "cell_type": "code",
      "execution_count": 29,
      "metadata": {
        "colab": {
          "base_uri": "https://localhost:8080/"
        },
        "id": "iYnxmhAHIWOj",
        "outputId": "df68dc45-fea7-4d3f-f928-2d3513b982ce"
      },
      "outputs": [
        {
          "output_type": "stream",
          "name": "stdout",
          "text": [
            "\n",
            "--- Daftar fitur (kolom) final di X (unscaled) dan urutannya (untuk API): ---\n",
            "['FacilityOccupancyRate', 'ProvidersOnShift', 'NursesOnShift', 'StaffToPatientRatio', 'IsRegistered', 'IsOnlineBooking', 'Year', 'Day', 'IsWeekend', 'Quarter', 'ArrivalDelayTime', 'RegistrationWaitTimeTime', 'RegistrationToCheckInTime', 'CheckInToNurseTime', 'NurseToTriageCompleteTime', 'TriageToProviderStartTime', 'ConsultationDurationTime', 'ProviderEndToTestsCompleteTime', 'TestsToDischargeTime', 'TotalTimeInHospital', 'TotalDelayTime', 'ArrivalHour', 'ArrivalDayOfWeek', 'ArrivalMonth', 'RegistrationTime_missing', 'TimeFromArrivalToNurse', 'TimeFromNurseToDoctor', 'AppointmentHour', 'VisitDayOfWeek', 'VisitMonth', 'VisitYear', 'VisitDayOfMonth']\n"
          ]
        }
      ],
      "source": [
        "# Print daftar kolom final di X (setelah imputasi, sebelum scaling) untuk digunakan di API\n",
        "print(\"\\n--- Daftar fitur (kolom) final di X (unscaled) dan urutannya (untuk API): ---\")\n",
        "final_feature_columns = X.columns.tolist() # Gunakan kolom dari X sebelum scaling untuk nama\n",
        "print(final_feature_columns)"
      ]
    },
    {
      "cell_type": "markdown",
      "metadata": {
        "id": "Xp2ALpy7FHt4"
      },
      "source": [
        " # Model Training"
      ]
    },
    {
      "cell_type": "markdown",
      "metadata": {
        "id": "dSMjRGL2FM67"
      },
      "source": [
        "## Membangun Model Neural Network"
      ]
    },
    {
      "cell_type": "code",
      "execution_count": 30,
      "metadata": {
        "colab": {
          "base_uri": "https://localhost:8080/"
        },
        "id": "gIwyp4byjUSu",
        "outputId": "a7a90ce8-5c9c-4b39-c4cf-0da30691a91b"
      },
      "outputs": [
        {
          "output_type": "stream",
          "name": "stderr",
          "text": [
            "/usr/local/lib/python3.11/dist-packages/keras/src/layers/core/dense.py:87: UserWarning: Do not pass an `input_shape`/`input_dim` argument to a layer. When using Sequential models, prefer using an `Input(shape)` object as the first layer in the model instead.\n",
            "  super().__init__(activity_regularizer=activity_regularizer, **kwargs)\n"
          ]
        }
      ],
      "source": [
        "# Buat model Neural Network\n",
        "model = Sequential()\n",
        "# Input shape berdasarkan jumlah fitur final\n",
        "model.add(Dense(128, activation='relu', input_shape=(X_train_scaled.shape[1],)))\n",
        "model.add(Dropout(0.3))\n",
        "model.add(Dense(64, activation='relu'))\n",
        "model.add(Dropout(0.2))\n",
        "model.add(Dense(1))  # Output layer untuk regresi (prediksi Duration)\n",
        "\n",
        "# Compile model\n",
        "model.compile(optimizer='adam', loss='mse', metrics=['mae'])\n",
        "\n",
        "# Early stopping untuk mencegah overfitting\n",
        "early_stop = EarlyStopping(monitor='val_loss', patience=10, restore_best_weights=True)"
      ]
    },
    {
      "cell_type": "markdown",
      "metadata": {
        "id": "jTePd3YpFQfl"
      },
      "source": [
        "## Melatih Model"
      ]
    },
    {
      "cell_type": "code",
      "execution_count": 31,
      "metadata": {
        "colab": {
          "base_uri": "https://localhost:8080/"
        },
        "id": "T7J3dK_ajV-J",
        "outputId": "1d1db174-8174-4aa6-e4a6-95950bda4f13"
      },
      "outputs": [
        {
          "output_type": "stream",
          "name": "stdout",
          "text": [
            "\n",
            "Melatih model...\n",
            "Epoch 1/100\n",
            "\u001b[1m100/100\u001b[0m \u001b[32m━━━━━━━━━━━━━━━━━━━━\u001b[0m\u001b[37m\u001b[0m \u001b[1m8s\u001b[0m 21ms/step - loss: 300.1921 - mae: 14.5845 - val_loss: 42.5806 - val_mae: 5.2911\n",
            "Epoch 2/100\n",
            "\u001b[1m100/100\u001b[0m \u001b[32m━━━━━━━━━━━━━━━━━━━━\u001b[0m\u001b[37m\u001b[0m \u001b[1m1s\u001b[0m 9ms/step - loss: 37.7678 - mae: 4.9322 - val_loss: 10.2588 - val_mae: 2.5904\n",
            "Epoch 3/100\n",
            "\u001b[1m100/100\u001b[0m \u001b[32m━━━━━━━━━━━━━━━━━━━━\u001b[0m\u001b[37m\u001b[0m \u001b[1m1s\u001b[0m 9ms/step - loss: 15.6476 - mae: 3.1226 - val_loss: 6.2051 - val_mae: 2.0102\n",
            "Epoch 4/100\n",
            "\u001b[1m100/100\u001b[0m \u001b[32m━━━━━━━━━━━━━━━━━━━━\u001b[0m\u001b[37m\u001b[0m \u001b[1m1s\u001b[0m 7ms/step - loss: 12.5987 - mae: 2.8121 - val_loss: 5.5822 - val_mae: 1.9412\n",
            "Epoch 5/100\n",
            "\u001b[1m100/100\u001b[0m \u001b[32m━━━━━━━━━━━━━━━━━━━━\u001b[0m\u001b[37m\u001b[0m \u001b[1m1s\u001b[0m 7ms/step - loss: 11.1535 - mae: 2.6331 - val_loss: 4.9942 - val_mae: 1.8434\n",
            "Epoch 6/100\n",
            "\u001b[1m100/100\u001b[0m \u001b[32m━━━━━━━━━━━━━━━━━━━━\u001b[0m\u001b[37m\u001b[0m \u001b[1m1s\u001b[0m 6ms/step - loss: 11.0687 - mae: 2.5993 - val_loss: 4.3601 - val_mae: 1.7135\n",
            "Epoch 7/100\n",
            "\u001b[1m100/100\u001b[0m \u001b[32m━━━━━━━━━━━━━━━━━━━━\u001b[0m\u001b[37m\u001b[0m \u001b[1m1s\u001b[0m 6ms/step - loss: 10.5878 - mae: 2.5322 - val_loss: 3.7042 - val_mae: 1.5824\n",
            "Epoch 8/100\n",
            "\u001b[1m100/100\u001b[0m \u001b[32m━━━━━━━━━━━━━━━━━━━━\u001b[0m\u001b[37m\u001b[0m \u001b[1m1s\u001b[0m 8ms/step - loss: 9.8768 - mae: 2.4460 - val_loss: 3.2516 - val_mae: 1.4736\n",
            "Epoch 9/100\n",
            "\u001b[1m100/100\u001b[0m \u001b[32m━━━━━━━━━━━━━━━━━━━━\u001b[0m\u001b[37m\u001b[0m \u001b[1m1s\u001b[0m 3ms/step - loss: 9.8897 - mae: 2.4138 - val_loss: 2.6439 - val_mae: 1.3258\n",
            "Epoch 10/100\n",
            "\u001b[1m100/100\u001b[0m \u001b[32m━━━━━━━━━━━━━━━━━━━━\u001b[0m\u001b[37m\u001b[0m \u001b[1m0s\u001b[0m 3ms/step - loss: 9.0464 - mae: 2.3136 - val_loss: 2.2621 - val_mae: 1.2061\n",
            "Epoch 11/100\n",
            "\u001b[1m100/100\u001b[0m \u001b[32m━━━━━━━━━━━━━━━━━━━━\u001b[0m\u001b[37m\u001b[0m \u001b[1m1s\u001b[0m 3ms/step - loss: 9.0139 - mae: 2.2979 - val_loss: 1.9734 - val_mae: 1.1511\n",
            "Epoch 12/100\n",
            "\u001b[1m100/100\u001b[0m \u001b[32m━━━━━━━━━━━━━━━━━━━━\u001b[0m\u001b[37m\u001b[0m \u001b[1m0s\u001b[0m 3ms/step - loss: 8.4942 - mae: 2.2471 - val_loss: 1.9843 - val_mae: 1.1637\n",
            "Epoch 13/100\n",
            "\u001b[1m100/100\u001b[0m \u001b[32m━━━━━━━━━━━━━━━━━━━━\u001b[0m\u001b[37m\u001b[0m \u001b[1m0s\u001b[0m 3ms/step - loss: 8.2202 - mae: 2.2140 - val_loss: 1.6717 - val_mae: 1.0526\n",
            "Epoch 14/100\n",
            "\u001b[1m100/100\u001b[0m \u001b[32m━━━━━━━━━━━━━━━━━━━━\u001b[0m\u001b[37m\u001b[0m \u001b[1m0s\u001b[0m 3ms/step - loss: 8.3036 - mae: 2.2253 - val_loss: 1.6355 - val_mae: 1.0360\n",
            "Epoch 15/100\n",
            "\u001b[1m100/100\u001b[0m \u001b[32m━━━━━━━━━━━━━━━━━━━━\u001b[0m\u001b[37m\u001b[0m \u001b[1m1s\u001b[0m 3ms/step - loss: 7.2917 - mae: 2.0956 - val_loss: 1.4960 - val_mae: 0.9659\n",
            "Epoch 16/100\n",
            "\u001b[1m100/100\u001b[0m \u001b[32m━━━━━━━━━━━━━━━━━━━━\u001b[0m\u001b[37m\u001b[0m \u001b[1m1s\u001b[0m 3ms/step - loss: 7.3593 - mae: 2.1014 - val_loss: 1.3586 - val_mae: 0.9323\n",
            "Epoch 17/100\n",
            "\u001b[1m100/100\u001b[0m \u001b[32m━━━━━━━━━━━━━━━━━━━━\u001b[0m\u001b[37m\u001b[0m \u001b[1m1s\u001b[0m 3ms/step - loss: 7.2669 - mae: 2.0685 - val_loss: 1.1313 - val_mae: 0.8635\n",
            "Epoch 18/100\n",
            "\u001b[1m100/100\u001b[0m \u001b[32m━━━━━━━━━━━━━━━━━━━━\u001b[0m\u001b[37m\u001b[0m \u001b[1m0s\u001b[0m 4ms/step - loss: 6.9614 - mae: 2.0040 - val_loss: 1.5054 - val_mae: 0.9959\n",
            "Epoch 19/100\n",
            "\u001b[1m100/100\u001b[0m \u001b[32m━━━━━━━━━━━━━━━━━━━━\u001b[0m\u001b[37m\u001b[0m \u001b[1m0s\u001b[0m 4ms/step - loss: 7.0735 - mae: 2.0160 - val_loss: 1.4175 - val_mae: 0.9803\n",
            "Epoch 20/100\n",
            "\u001b[1m100/100\u001b[0m \u001b[32m━━━━━━━━━━━━━━━━━━━━\u001b[0m\u001b[37m\u001b[0m \u001b[1m1s\u001b[0m 5ms/step - loss: 6.3615 - mae: 1.9443 - val_loss: 1.1149 - val_mae: 0.8586\n",
            "Epoch 21/100\n",
            "\u001b[1m100/100\u001b[0m \u001b[32m━━━━━━━━━━━━━━━━━━━━\u001b[0m\u001b[37m\u001b[0m \u001b[1m1s\u001b[0m 5ms/step - loss: 6.8784 - mae: 1.9858 - val_loss: 0.9121 - val_mae: 0.7552\n",
            "Epoch 22/100\n",
            "\u001b[1m100/100\u001b[0m \u001b[32m━━━━━━━━━━━━━━━━━━━━\u001b[0m\u001b[37m\u001b[0m \u001b[1m0s\u001b[0m 3ms/step - loss: 7.0963 - mae: 1.9914 - val_loss: 0.8188 - val_mae: 0.7350\n",
            "Epoch 23/100\n",
            "\u001b[1m100/100\u001b[0m \u001b[32m━━━━━━━━━━━━━━━━━━━━\u001b[0m\u001b[37m\u001b[0m \u001b[1m0s\u001b[0m 4ms/step - loss: 6.8750 - mae: 1.9429 - val_loss: 0.8806 - val_mae: 0.7521\n",
            "Epoch 24/100\n",
            "\u001b[1m100/100\u001b[0m \u001b[32m━━━━━━━━━━━━━━━━━━━━\u001b[0m\u001b[37m\u001b[0m \u001b[1m0s\u001b[0m 4ms/step - loss: 6.3563 - mae: 1.8866 - val_loss: 0.7369 - val_mae: 0.6820\n",
            "Epoch 25/100\n",
            "\u001b[1m100/100\u001b[0m \u001b[32m━━━━━━━━━━━━━━━━━━━━\u001b[0m\u001b[37m\u001b[0m \u001b[1m0s\u001b[0m 3ms/step - loss: 6.2663 - mae: 1.9000 - val_loss: 0.9720 - val_mae: 0.7931\n",
            "Epoch 26/100\n",
            "\u001b[1m100/100\u001b[0m \u001b[32m━━━━━━━━━━━━━━━━━━━━\u001b[0m\u001b[37m\u001b[0m \u001b[1m0s\u001b[0m 3ms/step - loss: 6.5221 - mae: 1.9473 - val_loss: 0.7525 - val_mae: 0.6854\n",
            "Epoch 27/100\n",
            "\u001b[1m100/100\u001b[0m \u001b[32m━━━━━━━━━━━━━━━━━━━━\u001b[0m\u001b[37m\u001b[0m \u001b[1m0s\u001b[0m 3ms/step - loss: 6.2078 - mae: 1.8580 - val_loss: 0.7794 - val_mae: 0.7011\n",
            "Epoch 28/100\n",
            "\u001b[1m100/100\u001b[0m \u001b[32m━━━━━━━━━━━━━━━━━━━━\u001b[0m\u001b[37m\u001b[0m \u001b[1m0s\u001b[0m 3ms/step - loss: 6.2825 - mae: 1.8832 - val_loss: 0.6576 - val_mae: 0.6641\n",
            "Epoch 29/100\n",
            "\u001b[1m100/100\u001b[0m \u001b[32m━━━━━━━━━━━━━━━━━━━━\u001b[0m\u001b[37m\u001b[0m \u001b[1m0s\u001b[0m 3ms/step - loss: 6.0325 - mae: 1.8425 - val_loss: 1.1317 - val_mae: 0.8704\n",
            "Epoch 30/100\n",
            "\u001b[1m100/100\u001b[0m \u001b[32m━━━━━━━━━━━━━━━━━━━━\u001b[0m\u001b[37m\u001b[0m \u001b[1m0s\u001b[0m 3ms/step - loss: 6.0434 - mae: 1.8400 - val_loss: 0.6960 - val_mae: 0.6539\n",
            "Epoch 31/100\n",
            "\u001b[1m100/100\u001b[0m \u001b[32m━━━━━━━━━━━━━━━━━━━━\u001b[0m\u001b[37m\u001b[0m \u001b[1m1s\u001b[0m 3ms/step - loss: 5.8310 - mae: 1.8131 - val_loss: 0.5608 - val_mae: 0.5952\n",
            "Epoch 32/100\n",
            "\u001b[1m100/100\u001b[0m \u001b[32m━━━━━━━━━━━━━━━━━━━━\u001b[0m\u001b[37m\u001b[0m \u001b[1m1s\u001b[0m 3ms/step - loss: 5.6436 - mae: 1.7615 - val_loss: 0.9860 - val_mae: 0.7759\n",
            "Epoch 33/100\n",
            "\u001b[1m100/100\u001b[0m \u001b[32m━━━━━━━━━━━━━━━━━━━━\u001b[0m\u001b[37m\u001b[0m \u001b[1m1s\u001b[0m 4ms/step - loss: 5.9853 - mae: 1.8223 - val_loss: 0.5525 - val_mae: 0.6008\n",
            "Epoch 34/100\n",
            "\u001b[1m100/100\u001b[0m \u001b[32m━━━━━━━━━━━━━━━━━━━━\u001b[0m\u001b[37m\u001b[0m \u001b[1m1s\u001b[0m 3ms/step - loss: 5.5741 - mae: 1.7590 - val_loss: 0.6439 - val_mae: 0.6531\n",
            "Epoch 35/100\n",
            "\u001b[1m100/100\u001b[0m \u001b[32m━━━━━━━━━━━━━━━━━━━━\u001b[0m\u001b[37m\u001b[0m \u001b[1m0s\u001b[0m 3ms/step - loss: 5.5518 - mae: 1.7301 - val_loss: 0.9302 - val_mae: 0.7813\n",
            "Epoch 36/100\n",
            "\u001b[1m100/100\u001b[0m \u001b[32m━━━━━━━━━━━━━━━━━━━━\u001b[0m\u001b[37m\u001b[0m \u001b[1m0s\u001b[0m 4ms/step - loss: 5.9357 - mae: 1.8141 - val_loss: 0.9047 - val_mae: 0.7710\n",
            "Epoch 37/100\n",
            "\u001b[1m100/100\u001b[0m \u001b[32m━━━━━━━━━━━━━━━━━━━━\u001b[0m\u001b[37m\u001b[0m \u001b[1m1s\u001b[0m 3ms/step - loss: 5.7260 - mae: 1.7768 - val_loss: 0.5979 - val_mae: 0.6176\n",
            "Epoch 38/100\n",
            "\u001b[1m100/100\u001b[0m \u001b[32m━━━━━━━━━━━━━━━━━━━━\u001b[0m\u001b[37m\u001b[0m \u001b[1m0s\u001b[0m 3ms/step - loss: 5.4239 - mae: 1.7440 - val_loss: 0.5849 - val_mae: 0.6117\n",
            "Epoch 39/100\n",
            "\u001b[1m100/100\u001b[0m \u001b[32m━━━━━━━━━━━━━━━━━━━━\u001b[0m\u001b[37m\u001b[0m \u001b[1m0s\u001b[0m 3ms/step - loss: 5.9266 - mae: 1.7890 - val_loss: 0.5892 - val_mae: 0.6178\n",
            "Epoch 40/100\n",
            "\u001b[1m100/100\u001b[0m \u001b[32m━━━━━━━━━━━━━━━━━━━━\u001b[0m\u001b[37m\u001b[0m \u001b[1m0s\u001b[0m 3ms/step - loss: 5.4362 - mae: 1.7200 - val_loss: 0.5924 - val_mae: 0.6152\n",
            "Epoch 41/100\n",
            "\u001b[1m100/100\u001b[0m \u001b[32m━━━━━━━━━━━━━━━━━━━━\u001b[0m\u001b[37m\u001b[0m \u001b[1m0s\u001b[0m 3ms/step - loss: 5.8022 - mae: 1.7721 - val_loss: 0.9535 - val_mae: 0.7894\n",
            "Epoch 42/100\n",
            "\u001b[1m100/100\u001b[0m \u001b[32m━━━━━━━━━━━━━━━━━━━━\u001b[0m\u001b[37m\u001b[0m \u001b[1m0s\u001b[0m 3ms/step - loss: 5.6322 - mae: 1.7611 - val_loss: 1.1041 - val_mae: 0.8675\n",
            "Epoch 43/100\n",
            "\u001b[1m100/100\u001b[0m \u001b[32m━━━━━━━━━━━━━━━━━━━━\u001b[0m\u001b[37m\u001b[0m \u001b[1m1s\u001b[0m 3ms/step - loss: 4.8241 - mae: 1.6319 - val_loss: 0.4246 - val_mae: 0.5170\n",
            "Epoch 44/100\n",
            "\u001b[1m100/100\u001b[0m \u001b[32m━━━━━━━━━━━━━━━━━━━━\u001b[0m\u001b[37m\u001b[0m \u001b[1m1s\u001b[0m 4ms/step - loss: 5.0850 - mae: 1.6731 - val_loss: 0.8266 - val_mae: 0.7322\n",
            "Epoch 45/100\n",
            "\u001b[1m100/100\u001b[0m \u001b[32m━━━━━━━━━━━━━━━━━━━━\u001b[0m\u001b[37m\u001b[0m \u001b[1m1s\u001b[0m 5ms/step - loss: 5.0642 - mae: 1.6449 - val_loss: 0.5961 - val_mae: 0.6005\n",
            "Epoch 46/100\n",
            "\u001b[1m100/100\u001b[0m \u001b[32m━━━━━━━━━━━━━━━━━━━━\u001b[0m\u001b[37m\u001b[0m \u001b[1m1s\u001b[0m 5ms/step - loss: 5.4039 - mae: 1.6939 - val_loss: 0.4994 - val_mae: 0.5610\n",
            "Epoch 47/100\n",
            "\u001b[1m100/100\u001b[0m \u001b[32m━━━━━━━━━━━━━━━━━━━━\u001b[0m\u001b[37m\u001b[0m \u001b[1m1s\u001b[0m 5ms/step - loss: 4.8712 - mae: 1.5932 - val_loss: 0.3972 - val_mae: 0.5029\n",
            "Epoch 48/100\n",
            "\u001b[1m100/100\u001b[0m \u001b[32m━━━━━━━━━━━━━━━━━━━━\u001b[0m\u001b[37m\u001b[0m \u001b[1m0s\u001b[0m 3ms/step - loss: 4.8902 - mae: 1.6095 - val_loss: 0.5122 - val_mae: 0.5630\n",
            "Epoch 49/100\n",
            "\u001b[1m100/100\u001b[0m \u001b[32m━━━━━━━━━━━━━━━━━━━━\u001b[0m\u001b[37m\u001b[0m \u001b[1m0s\u001b[0m 4ms/step - loss: 4.7851 - mae: 1.6363 - val_loss: 0.5271 - val_mae: 0.5767\n",
            "Epoch 50/100\n",
            "\u001b[1m100/100\u001b[0m \u001b[32m━━━━━━━━━━━━━━━━━━━━\u001b[0m\u001b[37m\u001b[0m \u001b[1m1s\u001b[0m 4ms/step - loss: 5.0718 - mae: 1.6356 - val_loss: 0.6915 - val_mae: 0.6759\n",
            "Epoch 51/100\n",
            "\u001b[1m100/100\u001b[0m \u001b[32m━━━━━━━━━━━━━━━━━━━━\u001b[0m\u001b[37m\u001b[0m \u001b[1m0s\u001b[0m 4ms/step - loss: 5.2179 - mae: 1.6855 - val_loss: 0.4222 - val_mae: 0.5202\n",
            "Epoch 52/100\n",
            "\u001b[1m100/100\u001b[0m \u001b[32m━━━━━━━━━━━━━━━━━━━━\u001b[0m\u001b[37m\u001b[0m \u001b[1m1s\u001b[0m 3ms/step - loss: 4.5003 - mae: 1.5689 - val_loss: 0.4505 - val_mae: 0.5417\n",
            "Epoch 53/100\n",
            "\u001b[1m100/100\u001b[0m \u001b[32m━━━━━━━━━━━━━━━━━━━━\u001b[0m\u001b[37m\u001b[0m \u001b[1m1s\u001b[0m 3ms/step - loss: 4.9850 - mae: 1.6382 - val_loss: 0.6437 - val_mae: 0.6453\n",
            "Epoch 54/100\n",
            "\u001b[1m100/100\u001b[0m \u001b[32m━━━━━━━━━━━━━━━━━━━━\u001b[0m\u001b[37m\u001b[0m \u001b[1m0s\u001b[0m 3ms/step - loss: 5.1580 - mae: 1.6043 - val_loss: 0.4199 - val_mae: 0.5145\n",
            "Epoch 55/100\n",
            "\u001b[1m100/100\u001b[0m \u001b[32m━━━━━━━━━━━━━━━━━━━━\u001b[0m\u001b[37m\u001b[0m \u001b[1m1s\u001b[0m 3ms/step - loss: 4.6109 - mae: 1.5688 - val_loss: 0.5220 - val_mae: 0.5943\n",
            "Epoch 56/100\n",
            "\u001b[1m100/100\u001b[0m \u001b[32m━━━━━━━━━━━━━━━━━━━━\u001b[0m\u001b[37m\u001b[0m \u001b[1m1s\u001b[0m 3ms/step - loss: 4.9269 - mae: 1.6177 - val_loss: 0.4459 - val_mae: 0.5348\n",
            "Epoch 57/100\n",
            "\u001b[1m100/100\u001b[0m \u001b[32m━━━━━━━━━━━━━━━━━━━━\u001b[0m\u001b[37m\u001b[0m \u001b[1m1s\u001b[0m 4ms/step - loss: 4.7111 - mae: 1.6104 - val_loss: 0.5782 - val_mae: 0.6162\n",
            "\n",
            "Pelatihan model selesai.\n"
          ]
        }
      ],
      "source": [
        "# Fit model\n",
        "print(\"\\nMelatih model...\")\n",
        "history = model.fit(\n",
        "    X_train_scaled, y_train, # Gunakan data SCALED untuk X\n",
        "    validation_split=0.2, # Validasi dari training data\n",
        "    epochs=100,\n",
        "    batch_size=32,\n",
        "    callbacks=[early_stop],\n",
        "    verbose=1\n",
        ")\n",
        "\n",
        "print(\"\\nPelatihan model selesai.\")"
      ]
    },
    {
      "cell_type": "code",
      "execution_count": 32,
      "metadata": {
        "colab": {
          "base_uri": "https://localhost:8080/"
        },
        "id": "brJ4VYTTae9b",
        "outputId": "3769f4dc-82a8-4a43-c53e-e1e132ddc8ad"
      },
      "outputs": [
        {
          "output_type": "stream",
          "name": "stdout",
          "text": [
            "Parameter scaler (mean dan scale) berhasil disimpan ke 'scaler_params.json' dalam format JSON.\n",
            "\n",
            "--- Daftar fitur (kolom) final (training_columns) untuk referensi di JS: ---\n",
            "['FacilityOccupancyRate', 'ProvidersOnShift', 'NursesOnShift', 'StaffToPatientRatio', 'IsRegistered', 'IsOnlineBooking', 'Year', 'Day', 'IsWeekend', 'Quarter', 'ArrivalDelayTime', 'RegistrationWaitTimeTime', 'RegistrationToCheckInTime', 'CheckInToNurseTime', 'NurseToTriageCompleteTime', 'TriageToProviderStartTime', 'ConsultationDurationTime', 'ProviderEndToTestsCompleteTime', 'TestsToDischargeTime', 'TotalTimeInHospital', 'TotalDelayTime', 'ArrivalHour', 'ArrivalDayOfWeek', 'ArrivalMonth', 'RegistrationTime_missing', 'TimeFromArrivalToNurse', 'TimeFromNurseToDoctor', 'AppointmentHour', 'VisitDayOfWeek', 'VisitMonth', 'VisitYear', 'VisitDayOfMonth']\n"
          ]
        }
      ],
      "source": [
        "\n",
        "# Asumsikan scaler sudah di-fit di Colab\n",
        "# Asumsikan X (unscaled DataFrame) sudah final dan X.columns.tolist() adalah daftar fitur final\n",
        "\n",
        "# Dapatkan rata-rata dan standar deviasi dari scaler\n",
        "scaler_mean = scaler.mean_\n",
        "scaler_scale = scaler.scale_ # Ini adalah std dev yang dihitung oleh StandardScaler\n",
        "\n",
        "# Dapatkan daftar nama kolom fitur final (sesuai urutan di X_train)\n",
        "feature_names = X.columns.tolist()\n",
        "\n",
        "# Buat dictionary untuk menyimpan parameter scaler\n",
        "scaler_params = {}\n",
        "for i, col_name in enumerate(feature_names):\n",
        "    # Pastikan nilai diubah ke tipe data standar Python (float)\n",
        "    # Tambahkan penanganan untuk std dev yang mungkin nol jika semua nilai fitur sama\n",
        "    scale_value = float(scaler_scale[i]) if scaler_scale[i] != 0 else 1e-8 # Gunakan nilai epsilon kecil jika std dev nol\n",
        "\n",
        "    scaler_params[col_name] = {\n",
        "        'mean': float(scaler_mean[i]),\n",
        "        'scale': scale_value\n",
        "    }\n",
        "\n",
        "# Simpan dictionary parameter scaler ke file JSON\n",
        "scaler_params_filename = 'scaler_params.json'\n",
        "with open(scaler_params_filename, 'w') as f:\n",
        "    json.dump(scaler_params, f, indent=4) # indent=4 untuk readability\n",
        "\n",
        "print(f\"Parameter scaler (mean dan scale) berhasil disimpan ke '{scaler_params_filename}' dalam format JSON.\")\n",
        "\n",
        "# Cetak juga daftar kolom untuk referensi di JavaScript\n",
        "print(\"\\n--- Daftar fitur (kolom) final (training_columns) untuk referensi di JS: ---\")\n",
        "print(feature_names)\n",
        "\n",
        "# Opsional: Simpan juga dictionary median values JSON jika Anda memerlukannya untuk imputasi missing values di JavaScript\n",
        "# median_values_filename = 'median_values.json'\n",
        "# median_values = X_train.median().to_dict() # Gunakan median dari X_train unscaled\n",
        "# with open(median_values_filename, 'w') as f:\n",
        "#     json.dump(median_values, f, indent=4)\n",
        "# print(f\"Dictionary median values berhasil disimpan ke '{median_values_filename}' dalam format JSON.\")"
      ]
    },
    {
      "cell_type": "markdown",
      "metadata": {
        "id": "sOjACKOoFU2N"
      },
      "source": [
        "## Menyimpan Model dan Parameter Pendukung"
      ]
    },
    {
      "cell_type": "code",
      "execution_count": 33,
      "metadata": {
        "colab": {
          "base_uri": "https://localhost:8080/"
        },
        "id": "LI5sGzgUJUTB",
        "outputId": "11db6e36-d21d-4375-d8b6-f23babee941a"
      },
      "outputs": [
        {
          "output_type": "stream",
          "name": "stderr",
          "text": [
            "WARNING:absl:You are saving your model as an HDF5 file via `model.save()` or `keras.saving.save_model(model)`. This file format is considered legacy. We recommend using instead the native Keras format, e.g. `model.save('my_model.keras')` or `keras.saving.save_model(model, 'my_model.keras')`. \n"
          ]
        },
        {
          "output_type": "stream",
          "name": "stdout",
          "text": [
            "Model disimpan sebagai 'my_model.h5'.\n"
          ]
        }
      ],
      "source": [
        "# Simpan model lengkap (arsitektur + bobot)\n",
        "model.save('my_model.h5')\n",
        "print(\"Model disimpan sebagai 'my_model.h5'.\")"
      ]
    },
    {
      "cell_type": "code",
      "execution_count": 39,
      "metadata": {
        "id": "uLtxY65uKBCo"
      },
      "outputs": [],
      "source": [
        "# # Instal tensorflowjs converter\n",
        "# !pip install -U tensorflowjs"
      ]
    },
    {
      "cell_type": "code",
      "execution_count": 35,
      "metadata": {
        "colab": {
          "base_uri": "https://localhost:8080/"
        },
        "id": "l9LqW2hxJ1ZA",
        "outputId": "d4458426-68be-4338-a48d-7e946d4dff3b"
      },
      "outputs": [
        {
          "output_type": "stream",
          "name": "stdout",
          "text": [
            "2025-06-12 10:24:44.828150: E external/local_xla/xla/stream_executor/cuda/cuda_fft.cc:477] Unable to register cuFFT factory: Attempting to register factory for plugin cuFFT when one has already been registered\n",
            "WARNING: All log messages before absl::InitializeLog() is called are written to STDERR\n",
            "E0000 00:00:1749723884.847866    2433 cuda_dnn.cc:8310] Unable to register cuDNN factory: Attempting to register factory for plugin cuDNN when one has already been registered\n",
            "E0000 00:00:1749723884.853945    2433 cuda_blas.cc:1418] Unable to register cuBLAS factory: Attempting to register factory for plugin cuBLAS when one has already been registered\n",
            "\u001b[32m🌲 Try \u001b[0m\u001b[34mhttps://ydf.readthedocs.io\u001b[0m\u001b[32m, the successor of TensorFlow Decision Forests with more features and faster training!\u001b[0m\n",
            "failed to lookup keras version from the file,\n",
            "    this is likely a weight only file\n",
            "\n",
            "Model Keras 'my_model.h5' telah dikonversi ke format TensorFlow.js di direktori 'tfjs_model_duration'.\n",
            "group1-shard1of1.bin  model.json\n"
          ]
        }
      ],
      "source": [
        "# Pastikan sel yang menyimpan model.h5 sudah dijalankan\n",
        "# model.save('my_model.h5')\n",
        "\n",
        "# Tentukan nama file model Keras input\n",
        "keras_model_path = 'my_model.h5'\n",
        "\n",
        "# Tentukan nama direktori output untuk file TF.js\n",
        "tfjs_output_dir = 'tfjs_model_duration' # Nama direktori output\n",
        "\n",
        "# Jalankan perintah konversi menggunakan tensorflowjs_converter\n",
        "# --input_format keras: Menentukan format input adalah Keras HDF5 (.h5)\n",
        "# --output_format tfjs_layers_model: Menentukan format output adalah TF.js Layers Model\n",
        "#                                      (cocok untuk model Sequential seperti milik Anda)\n",
        "!tensorflowjs_converter --input_format keras \\\n",
        "                        --output_format tfjs_layers_model \\\n",
        "                        {keras_model_path} \\\n",
        "                        {tfjs_output_dir}\n",
        "\n",
        "print(f\"\\nModel Keras '{keras_model_path}' telah dikonversi ke format TensorFlow.js di direktori '{tfjs_output_dir}'.\")\n",
        "\n",
        "# Untuk melihat file yang dihasilkan di direktori output\n",
        "!ls {tfjs_output_dir}\n"
      ]
    },
    {
      "cell_type": "markdown",
      "metadata": {
        "id": "ANDgJtzEFZSk"
      },
      "source": [
        " # Model Evaluation"
      ]
    },
    {
      "cell_type": "code",
      "execution_count": 36,
      "metadata": {
        "colab": {
          "base_uri": "https://localhost:8080/"
        },
        "id": "a1Xgf0YVjXo1",
        "outputId": "506be1e7-2f2e-4ee1-87f6-196d5a39dd3d"
      },
      "outputs": [
        {
          "output_type": "stream",
          "name": "stdout",
          "text": [
            "\u001b[1m32/32\u001b[0m \u001b[32m━━━━━━━━━━━━━━━━━━━━\u001b[0m\u001b[37m\u001b[0m \u001b[1m1s\u001b[0m 9ms/step\n",
            "MAE: 0.51 menit\n",
            "RMSE: 0.64 menit\n",
            "R^2 Score: 0.9950\n"
          ]
        }
      ],
      "source": [
        "# Evaluasi di data test\n",
        "y_pred = model.predict(X_test_scaled)\n",
        "\n",
        "# Hitung metrik evaluasi\n",
        "mae = mean_absolute_error(y_test, y_pred)\n",
        "rmse = np.sqrt(mean_squared_error(y_test, y_pred))\n",
        "r2 = r2_score(y_test, y_pred)\n",
        "\n",
        "print(f\"MAE: {mae:.2f} menit\")\n",
        "print(f\"RMSE: {rmse:.2f} menit\")\n",
        "print(f\"R^2 Score: {r2:.4f}\")"
      ]
    },
    {
      "cell_type": "markdown",
      "metadata": {
        "id": "xin04RLJFb1V"
      },
      "source": [
        " ## Perbandingan Prediksi dan Data Asli"
      ]
    },
    {
      "cell_type": "code",
      "execution_count": 37,
      "metadata": {
        "colab": {
          "base_uri": "https://localhost:8080/",
          "height": 397
        },
        "id": "DWHb7Y04jcQM",
        "outputId": "3a9fb9dd-e578-43e4-e53e-eaaaf7e05fde"
      },
      "outputs": [
        {
          "output_type": "stream",
          "name": "stdout",
          "text": [
            "\n",
            "Perbandingan 10 Contoh Prediksi vs Asli:\n"
          ]
        },
        {
          "output_type": "display_data",
          "data": {
            "text/plain": [
              "   Durasi_Asli (menit)  Durasi_Prediksi (menit)  Error (menit)\n",
              "0                 17.0                16.837805       0.162195\n",
              "1                 24.0                22.940002       1.059998\n",
              "2                  5.0                 5.124515      -0.124515\n",
              "3                 24.0                22.672092       1.327908\n",
              "4                 14.0                14.281015      -0.281015\n",
              "5                 13.0                12.827866       0.172134\n",
              "6                  5.0                 5.305053      -0.305053\n",
              "7                 24.0                23.118961       0.881039\n",
              "8                 20.0                19.775139       0.224861\n",
              "9                 18.0                17.821125       0.178875"
            ],
            "text/html": [
              "\n",
              "  <div id=\"df-1543847e-b5cc-4351-9e04-a2032b806cba\" class=\"colab-df-container\">\n",
              "    <div>\n",
              "<style scoped>\n",
              "    .dataframe tbody tr th:only-of-type {\n",
              "        vertical-align: middle;\n",
              "    }\n",
              "\n",
              "    .dataframe tbody tr th {\n",
              "        vertical-align: top;\n",
              "    }\n",
              "\n",
              "    .dataframe thead th {\n",
              "        text-align: right;\n",
              "    }\n",
              "</style>\n",
              "<table border=\"1\" class=\"dataframe\">\n",
              "  <thead>\n",
              "    <tr style=\"text-align: right;\">\n",
              "      <th></th>\n",
              "      <th>Durasi_Asli (menit)</th>\n",
              "      <th>Durasi_Prediksi (menit)</th>\n",
              "      <th>Error (menit)</th>\n",
              "    </tr>\n",
              "  </thead>\n",
              "  <tbody>\n",
              "    <tr>\n",
              "      <th>0</th>\n",
              "      <td>17.0</td>\n",
              "      <td>16.837805</td>\n",
              "      <td>0.162195</td>\n",
              "    </tr>\n",
              "    <tr>\n",
              "      <th>1</th>\n",
              "      <td>24.0</td>\n",
              "      <td>22.940002</td>\n",
              "      <td>1.059998</td>\n",
              "    </tr>\n",
              "    <tr>\n",
              "      <th>2</th>\n",
              "      <td>5.0</td>\n",
              "      <td>5.124515</td>\n",
              "      <td>-0.124515</td>\n",
              "    </tr>\n",
              "    <tr>\n",
              "      <th>3</th>\n",
              "      <td>24.0</td>\n",
              "      <td>22.672092</td>\n",
              "      <td>1.327908</td>\n",
              "    </tr>\n",
              "    <tr>\n",
              "      <th>4</th>\n",
              "      <td>14.0</td>\n",
              "      <td>14.281015</td>\n",
              "      <td>-0.281015</td>\n",
              "    </tr>\n",
              "    <tr>\n",
              "      <th>5</th>\n",
              "      <td>13.0</td>\n",
              "      <td>12.827866</td>\n",
              "      <td>0.172134</td>\n",
              "    </tr>\n",
              "    <tr>\n",
              "      <th>6</th>\n",
              "      <td>5.0</td>\n",
              "      <td>5.305053</td>\n",
              "      <td>-0.305053</td>\n",
              "    </tr>\n",
              "    <tr>\n",
              "      <th>7</th>\n",
              "      <td>24.0</td>\n",
              "      <td>23.118961</td>\n",
              "      <td>0.881039</td>\n",
              "    </tr>\n",
              "    <tr>\n",
              "      <th>8</th>\n",
              "      <td>20.0</td>\n",
              "      <td>19.775139</td>\n",
              "      <td>0.224861</td>\n",
              "    </tr>\n",
              "    <tr>\n",
              "      <th>9</th>\n",
              "      <td>18.0</td>\n",
              "      <td>17.821125</td>\n",
              "      <td>0.178875</td>\n",
              "    </tr>\n",
              "  </tbody>\n",
              "</table>\n",
              "</div>\n",
              "    <div class=\"colab-df-buttons\">\n",
              "\n",
              "  <div class=\"colab-df-container\">\n",
              "    <button class=\"colab-df-convert\" onclick=\"convertToInteractive('df-1543847e-b5cc-4351-9e04-a2032b806cba')\"\n",
              "            title=\"Convert this dataframe to an interactive table.\"\n",
              "            style=\"display:none;\">\n",
              "\n",
              "  <svg xmlns=\"http://www.w3.org/2000/svg\" height=\"24px\" viewBox=\"0 -960 960 960\">\n",
              "    <path d=\"M120-120v-720h720v720H120Zm60-500h600v-160H180v160Zm220 220h160v-160H400v160Zm0 220h160v-160H400v160ZM180-400h160v-160H180v160Zm440 0h160v-160H620v160ZM180-180h160v-160H180v160Zm440 0h160v-160H620v160Z\"/>\n",
              "  </svg>\n",
              "    </button>\n",
              "\n",
              "  <style>\n",
              "    .colab-df-container {\n",
              "      display:flex;\n",
              "      gap: 12px;\n",
              "    }\n",
              "\n",
              "    .colab-df-convert {\n",
              "      background-color: #E8F0FE;\n",
              "      border: none;\n",
              "      border-radius: 50%;\n",
              "      cursor: pointer;\n",
              "      display: none;\n",
              "      fill: #1967D2;\n",
              "      height: 32px;\n",
              "      padding: 0 0 0 0;\n",
              "      width: 32px;\n",
              "    }\n",
              "\n",
              "    .colab-df-convert:hover {\n",
              "      background-color: #E2EBFA;\n",
              "      box-shadow: 0px 1px 2px rgba(60, 64, 67, 0.3), 0px 1px 3px 1px rgba(60, 64, 67, 0.15);\n",
              "      fill: #174EA6;\n",
              "    }\n",
              "\n",
              "    .colab-df-buttons div {\n",
              "      margin-bottom: 4px;\n",
              "    }\n",
              "\n",
              "    [theme=dark] .colab-df-convert {\n",
              "      background-color: #3B4455;\n",
              "      fill: #D2E3FC;\n",
              "    }\n",
              "\n",
              "    [theme=dark] .colab-df-convert:hover {\n",
              "      background-color: #434B5C;\n",
              "      box-shadow: 0px 1px 3px 1px rgba(0, 0, 0, 0.15);\n",
              "      filter: drop-shadow(0px 1px 2px rgba(0, 0, 0, 0.3));\n",
              "      fill: #FFFFFF;\n",
              "    }\n",
              "  </style>\n",
              "\n",
              "    <script>\n",
              "      const buttonEl =\n",
              "        document.querySelector('#df-1543847e-b5cc-4351-9e04-a2032b806cba button.colab-df-convert');\n",
              "      buttonEl.style.display =\n",
              "        google.colab.kernel.accessAllowed ? 'block' : 'none';\n",
              "\n",
              "      async function convertToInteractive(key) {\n",
              "        const element = document.querySelector('#df-1543847e-b5cc-4351-9e04-a2032b806cba');\n",
              "        const dataTable =\n",
              "          await google.colab.kernel.invokeFunction('convertToInteractive',\n",
              "                                                    [key], {});\n",
              "        if (!dataTable) return;\n",
              "\n",
              "        const docLinkHtml = 'Like what you see? Visit the ' +\n",
              "          '<a target=\"_blank\" href=https://colab.research.google.com/notebooks/data_table.ipynb>data table notebook</a>'\n",
              "          + ' to learn more about interactive tables.';\n",
              "        element.innerHTML = '';\n",
              "        dataTable['output_type'] = 'display_data';\n",
              "        await google.colab.output.renderOutput(dataTable, element);\n",
              "        const docLink = document.createElement('div');\n",
              "        docLink.innerHTML = docLinkHtml;\n",
              "        element.appendChild(docLink);\n",
              "      }\n",
              "    </script>\n",
              "  </div>\n",
              "\n",
              "\n",
              "    <div id=\"df-3bf268cf-385d-46ea-a907-321160892032\">\n",
              "      <button class=\"colab-df-quickchart\" onclick=\"quickchart('df-3bf268cf-385d-46ea-a907-321160892032')\"\n",
              "                title=\"Suggest charts\"\n",
              "                style=\"display:none;\">\n",
              "\n",
              "<svg xmlns=\"http://www.w3.org/2000/svg\" height=\"24px\"viewBox=\"0 0 24 24\"\n",
              "     width=\"24px\">\n",
              "    <g>\n",
              "        <path d=\"M19 3H5c-1.1 0-2 .9-2 2v14c0 1.1.9 2 2 2h14c1.1 0 2-.9 2-2V5c0-1.1-.9-2-2-2zM9 17H7v-7h2v7zm4 0h-2V7h2v10zm4 0h-2v-4h2v4z\"/>\n",
              "    </g>\n",
              "</svg>\n",
              "      </button>\n",
              "\n",
              "<style>\n",
              "  .colab-df-quickchart {\n",
              "      --bg-color: #E8F0FE;\n",
              "      --fill-color: #1967D2;\n",
              "      --hover-bg-color: #E2EBFA;\n",
              "      --hover-fill-color: #174EA6;\n",
              "      --disabled-fill-color: #AAA;\n",
              "      --disabled-bg-color: #DDD;\n",
              "  }\n",
              "\n",
              "  [theme=dark] .colab-df-quickchart {\n",
              "      --bg-color: #3B4455;\n",
              "      --fill-color: #D2E3FC;\n",
              "      --hover-bg-color: #434B5C;\n",
              "      --hover-fill-color: #FFFFFF;\n",
              "      --disabled-bg-color: #3B4455;\n",
              "      --disabled-fill-color: #666;\n",
              "  }\n",
              "\n",
              "  .colab-df-quickchart {\n",
              "    background-color: var(--bg-color);\n",
              "    border: none;\n",
              "    border-radius: 50%;\n",
              "    cursor: pointer;\n",
              "    display: none;\n",
              "    fill: var(--fill-color);\n",
              "    height: 32px;\n",
              "    padding: 0;\n",
              "    width: 32px;\n",
              "  }\n",
              "\n",
              "  .colab-df-quickchart:hover {\n",
              "    background-color: var(--hover-bg-color);\n",
              "    box-shadow: 0 1px 2px rgba(60, 64, 67, 0.3), 0 1px 3px 1px rgba(60, 64, 67, 0.15);\n",
              "    fill: var(--button-hover-fill-color);\n",
              "  }\n",
              "\n",
              "  .colab-df-quickchart-complete:disabled,\n",
              "  .colab-df-quickchart-complete:disabled:hover {\n",
              "    background-color: var(--disabled-bg-color);\n",
              "    fill: var(--disabled-fill-color);\n",
              "    box-shadow: none;\n",
              "  }\n",
              "\n",
              "  .colab-df-spinner {\n",
              "    border: 2px solid var(--fill-color);\n",
              "    border-color: transparent;\n",
              "    border-bottom-color: var(--fill-color);\n",
              "    animation:\n",
              "      spin 1s steps(1) infinite;\n",
              "  }\n",
              "\n",
              "  @keyframes spin {\n",
              "    0% {\n",
              "      border-color: transparent;\n",
              "      border-bottom-color: var(--fill-color);\n",
              "      border-left-color: var(--fill-color);\n",
              "    }\n",
              "    20% {\n",
              "      border-color: transparent;\n",
              "      border-left-color: var(--fill-color);\n",
              "      border-top-color: var(--fill-color);\n",
              "    }\n",
              "    30% {\n",
              "      border-color: transparent;\n",
              "      border-left-color: var(--fill-color);\n",
              "      border-top-color: var(--fill-color);\n",
              "      border-right-color: var(--fill-color);\n",
              "    }\n",
              "    40% {\n",
              "      border-color: transparent;\n",
              "      border-right-color: var(--fill-color);\n",
              "      border-top-color: var(--fill-color);\n",
              "    }\n",
              "    60% {\n",
              "      border-color: transparent;\n",
              "      border-right-color: var(--fill-color);\n",
              "    }\n",
              "    80% {\n",
              "      border-color: transparent;\n",
              "      border-right-color: var(--fill-color);\n",
              "      border-bottom-color: var(--fill-color);\n",
              "    }\n",
              "    90% {\n",
              "      border-color: transparent;\n",
              "      border-bottom-color: var(--fill-color);\n",
              "    }\n",
              "  }\n",
              "</style>\n",
              "\n",
              "      <script>\n",
              "        async function quickchart(key) {\n",
              "          const quickchartButtonEl =\n",
              "            document.querySelector('#' + key + ' button');\n",
              "          quickchartButtonEl.disabled = true;  // To prevent multiple clicks.\n",
              "          quickchartButtonEl.classList.add('colab-df-spinner');\n",
              "          try {\n",
              "            const charts = await google.colab.kernel.invokeFunction(\n",
              "                'suggestCharts', [key], {});\n",
              "          } catch (error) {\n",
              "            console.error('Error during call to suggestCharts:', error);\n",
              "          }\n",
              "          quickchartButtonEl.classList.remove('colab-df-spinner');\n",
              "          quickchartButtonEl.classList.add('colab-df-quickchart-complete');\n",
              "        }\n",
              "        (() => {\n",
              "          let quickchartButtonEl =\n",
              "            document.querySelector('#df-3bf268cf-385d-46ea-a907-321160892032 button');\n",
              "          quickchartButtonEl.style.display =\n",
              "            google.colab.kernel.accessAllowed ? 'block' : 'none';\n",
              "        })();\n",
              "      </script>\n",
              "    </div>\n",
              "\n",
              "  <div id=\"id_f721d9b1-7679-461b-a7a0-1579f7883086\">\n",
              "    <style>\n",
              "      .colab-df-generate {\n",
              "        background-color: #E8F0FE;\n",
              "        border: none;\n",
              "        border-radius: 50%;\n",
              "        cursor: pointer;\n",
              "        display: none;\n",
              "        fill: #1967D2;\n",
              "        height: 32px;\n",
              "        padding: 0 0 0 0;\n",
              "        width: 32px;\n",
              "      }\n",
              "\n",
              "      .colab-df-generate:hover {\n",
              "        background-color: #E2EBFA;\n",
              "        box-shadow: 0px 1px 2px rgba(60, 64, 67, 0.3), 0px 1px 3px 1px rgba(60, 64, 67, 0.15);\n",
              "        fill: #174EA6;\n",
              "      }\n",
              "\n",
              "      [theme=dark] .colab-df-generate {\n",
              "        background-color: #3B4455;\n",
              "        fill: #D2E3FC;\n",
              "      }\n",
              "\n",
              "      [theme=dark] .colab-df-generate:hover {\n",
              "        background-color: #434B5C;\n",
              "        box-shadow: 0px 1px 3px 1px rgba(0, 0, 0, 0.15);\n",
              "        filter: drop-shadow(0px 1px 2px rgba(0, 0, 0, 0.3));\n",
              "        fill: #FFFFFF;\n",
              "      }\n",
              "    </style>\n",
              "    <button class=\"colab-df-generate\" onclick=\"generateWithVariable('perbandingan')\"\n",
              "            title=\"Generate code using this dataframe.\"\n",
              "            style=\"display:none;\">\n",
              "\n",
              "  <svg xmlns=\"http://www.w3.org/2000/svg\" height=\"24px\"viewBox=\"0 0 24 24\"\n",
              "       width=\"24px\">\n",
              "    <path d=\"M7,19H8.4L18.45,9,17,7.55,7,17.6ZM5,21V16.75L18.45,3.32a2,2,0,0,1,2.83,0l1.4,1.43a1.91,1.91,0,0,1,.58,1.4,1.91,1.91,0,0,1-.58,1.4L9.25,21ZM18.45,9,17,7.55Zm-12,3A5.31,5.31,0,0,0,4.9,8.1,5.31,5.31,0,0,0,1,6.5,5.31,5.31,0,0,0,4.9,4.9,5.31,5.31,0,0,0,6.5,1,5.31,5.31,0,0,0,8.1,4.9,5.31,5.31,0,0,0,12,6.5,5.46,5.46,0,0,0,6.5,12Z\"/>\n",
              "  </svg>\n",
              "    </button>\n",
              "    <script>\n",
              "      (() => {\n",
              "      const buttonEl =\n",
              "        document.querySelector('#id_f721d9b1-7679-461b-a7a0-1579f7883086 button.colab-df-generate');\n",
              "      buttonEl.style.display =\n",
              "        google.colab.kernel.accessAllowed ? 'block' : 'none';\n",
              "\n",
              "      buttonEl.onclick = () => {\n",
              "        google.colab.notebook.generateWithVariable('perbandingan');\n",
              "      }\n",
              "      })();\n",
              "    </script>\n",
              "  </div>\n",
              "\n",
              "    </div>\n",
              "  </div>\n"
            ],
            "application/vnd.google.colaboratory.intrinsic+json": {
              "type": "dataframe",
              "variable_name": "perbandingan",
              "summary": "{\n  \"name\": \"perbandingan\",\n  \"rows\": 10,\n  \"fields\": [\n    {\n      \"column\": \"Durasi_Asli (menit)\",\n      \"properties\": {\n        \"dtype\": \"number\",\n        \"std\": 7.198765326236314,\n        \"min\": 5.0,\n        \"max\": 24.0,\n        \"num_unique_values\": 7,\n        \"samples\": [\n          17.0,\n          24.0,\n          20.0\n        ],\n        \"semantic_type\": \"\",\n        \"description\": \"\"\n      }\n    },\n    {\n      \"column\": \"Durasi_Prediksi (menit)\",\n      \"properties\": {\n        \"dtype\": \"float32\",\n        \"num_unique_values\": 10,\n        \"samples\": [\n          19.77513885498047,\n          22.94000244140625,\n          12.827865600585938\n        ],\n        \"semantic_type\": \"\",\n        \"description\": \"\"\n      }\n    },\n    {\n      \"column\": \"Error (menit)\",\n      \"properties\": {\n        \"dtype\": \"number\",\n        \"std\": 0.567895430359005,\n        \"min\": -0.3050527572631836,\n        \"max\": 1.3279075622558594,\n        \"num_unique_values\": 10,\n        \"samples\": [\n          0.22486114501953125,\n          1.05999755859375,\n          0.1721343994140625\n        ],\n        \"semantic_type\": \"\",\n        \"description\": \"\"\n      }\n    }\n  ]\n}"
            }
          },
          "metadata": {}
        }
      ],
      "source": [
        "# Bandingkan beberapa contoh prediksi dengan data asli\n",
        "print(\"\\nPerbandingan 10 Contoh Prediksi vs Asli:\")\n",
        "perbandingan = pd.DataFrame({\n",
        "    'Durasi_Asli (menit)': y_test.values[:10],\n",
        "    'Durasi_Prediksi (menit)': y_pred[:10].flatten()\n",
        "})\n",
        "# Opsional: Terapkan post-processing (max(0, pred)) untuk tampilan perbandingan jika diinginkan\n",
        "# perbandingan['Durasi_Prediksi (menit)'] = perbandingan['Durasi_Prediksi (menit)'].apply(lambda x: max(0, x))\n",
        "perbandingan['Error (menit)'] = perbandingan['Durasi_Asli (menit)'] - perbandingan['Durasi_Prediksi (menit)']\n",
        "display(perbandingan)\n"
      ]
    },
    {
      "cell_type": "markdown",
      "metadata": {
        "id": "GwRZUfFwFd8i"
      },
      "source": [
        "## Visualisasi Hasil Evaluasi"
      ]
    },
    {
      "cell_type": "code",
      "execution_count": 38,
      "metadata": {
        "colab": {
          "base_uri": "https://localhost:8080/",
          "height": 1000
        },
        "id": "-Xw5JQnbjeHm",
        "outputId": "60498a9b-73e7-4653-d83c-d1f428e1ac94"
      },
      "outputs": [
        {
          "output_type": "display_data",
          "data": {
            "text/plain": [
              "<Figure size 1000x500 with 1 Axes>"
            ],
            "image/png": "[encoded data removed]"
          },
          "metadata": {}
        },
        {
          "output_type": "display_data",
          "data": {
            "text/plain": [
              "<Figure size 600x600 with 1 Axes>"
            ],
            "image/png": "[encoded data removed]"
          },
          "metadata": {}
        }
      ],
      "source": [
        "# Plot loss selama training\n",
        "plt.figure(figsize=(10,5))\n",
        "plt.plot(history.history['loss'], label='Train Loss')\n",
        "plt.plot(history.history['val_loss'], label='Validation Loss')\n",
        "plt.title(\"Loss Selama Training\")\n",
        "plt.xlabel(\"Epoch\")\n",
        "plt.ylabel(\"Loss (MSE)\")\n",
        "plt.legend()\n",
        "plt.grid()\n",
        "plt.show()\n",
        "\n",
        "\n",
        "# Plot hasil prediksi vs data asli\n",
        "plt.figure(figsize=(6,6))\n",
        "sns.scatterplot(x=y_test, y=y_pred.flatten(), alpha=0.6) # flatten y_pred\n",
        "plt.xlabel(\"Duration Asli (menit)\")\n",
        "plt.ylabel(\"Duration Prediksi (menit)\")\n",
        "plt.title(\"Prediksi vs Asli\")\n",
        "# Tambahkan garis y=x ideal\n",
        "min_val = min(y_test.min(), y_pred.min())\n",
        "max_val = max(y_test.max(), y_pred.max())\n",
        "plt.plot([min_val, max_val], [min_val, max_val], 'r--', linewidth=2)\n",
        "plt.grid(True)\n",
        "plt.show()"
      ]
    },
    {
      "cell_type": "code",
      "source": [
        "# Generate requirements.txt\n",
        "!pip freeze > requirements.txt\n",
        "\n",
        "from google.colab import files\n",
        "files.download(\"requirements.txt\")"
      ],
      "metadata": {
        "colab": {
          "base_uri": "https://localhost:8080/",
          "height": 17
        },
        "id": "ghGfXEWjrFq-",
        "outputId": "c0b018bc-c611-44e1-9992-23edc1c37f67"
      },
      "execution_count": 40,
      "outputs": [
        {
          "output_type": "display_data",
          "data": {
            "text/plain": [
              "<IPython.core.display.Javascript object>"
            ],
            "application/javascript": [
              "\n",
              "    async function download(id, filename, size) {\n",
              "      if (!google.colab.kernel.accessAllowed) {\n",
              "        return;\n",
              "      }\n",
              "      const div = document.createElement('div');\n",
              "      const label = document.createElement('label');\n",
              "      label.textContent = `Downloading \"${filename}\": `;\n",
              "      div.appendChild(label);\n",
              "      const progress = document.createElement('progress');\n",
              "      progress.max = size;\n",
              "      div.appendChild(progress);\n",
              "      document.body.appendChild(div);\n",
              "\n",
              "      const buffers = [];\n",
              "      let downloaded = 0;\n",
              "\n",
              "      const channel = await google.colab.kernel.comms.open(id);\n",
              "      // Send a message to notify the kernel that we're ready.\n",
              "      channel.send({})\n",
              "\n",
              "      for await (const message of channel.messages) {\n",
              "        // Send a message to notify the kernel that we're ready.\n",
              "        channel.send({})\n",
              "        if (message.buffers) {\n",
              "          for (const buffer of message.buffers) {\n",
              "            buffers.push(buffer);\n",
              "            downloaded += buffer.byteLength;\n",
              "            progress.value = downloaded;\n",
              "          }\n",
              "        }\n",
              "      }\n",
              "      const blob = new Blob(buffers, {type: 'application/binary'});\n",
              "      const a = document.createElement('a');\n",
              "      a.href = window.URL.createObjectURL(blob);\n",
              "      a.download = filename;\n",
              "      div.appendChild(a);\n",
              "      a.click();\n",
              "      div.remove();\n",
              "    }\n",
              "  "
            ]
          },
          "metadata": {}
        },
        {
          "output_type": "display_data",
          "data": {
            "text/plain": [
              "<IPython.core.display.Javascript object>"
            ],
            "application/javascript": [
              "download(\"download_2b2ef364-fdaa-4e13-b18d-1d4f2d64adcc\", \"requirements.txt\", 13132)"
            ]
          },
          "metadata": {}
        }
      ]
    },
    {
      "cell_type": "markdown",
      "metadata": {
        "id": "LbUNPQ6BFgrg"
      },
      "source": [
        " # Kesimpulan dan Langkah Selanjutnya"
      ]
    },
    {
      "cell_type": "markdown",
      "metadata": {
        "id": "h95s2cBpFjWY"
      },
      "source": [
        "### Model Neural Network telah dilatih untuk memprediksi durasi penanganan oleh provider. Model dan artefak pendukung (scaler params, feature names) sudah disimpan dan dikonversi ke format TF.js, siap untuk di-deploy ke lingkungan lain seperti aplikasi web atau backend API."
      ]
    },
    {
      "cell_type": "markdown",
      "metadata": {
        "id": "axoH_fsqfQ4P"
      },
      "source": [
        "# Model Anda saat ini dilatih untuk memprediksi berapa lama provider akan menangani pasien setelah mereka mulai ditangani."
      ]
    }
  ],
  "metadata": {
    "accelerator": "GPU",
    "colab": {
      "gpuType": "T4",
      "provenance": []
    },
    "kernelspec": {
      "display_name": "Python 3",
      "name": "python3"
    },
    "language_info": {
      "name": "python"
    }
  },
  "nbformat": 4,
  "nbformat_minor": 0
}